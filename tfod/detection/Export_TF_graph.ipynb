{
 "cells": [
  {
   "cell_type": "markdown",
   "metadata": {},
   "source": [
    "'''Exports a trained model into a frozen graph'''\n",
    "\n",
    "/!\\ Can't have 2 notebooks with tf.Sessions in parrallel !\n",
    "\n",
    "Run from environment with requirements:\n",
    "* humanfriendly"
   ]
  },
  {
   "cell_type": "markdown",
   "metadata": {},
   "source": [
    "# Freeze graph (.pbtxt to .pb)"
   ]
  },
  {
   "cell_type": "code",
   "execution_count": 2,
   "metadata": {},
   "outputs": [],
   "source": [
    "import os\n",
    "import tqdm\n",
    "import numpy as np\n",
    "\n",
    "#import tensorflow as tf\n",
    "from tensorflow.python.tools import freeze_graph"
   ]
  },
  {
   "cell_type": "code",
   "execution_count": 3,
   "metadata": {},
   "outputs": [],
   "source": [
    "path_to_root = '../../../..'\n",
    "path_to_outputs = os.path.join(path_to_root,'outputs/fasterRCNN_07_02_img_resize')\n",
    "\n",
    "pbtxt_path = os.path.join(path_to_outputs, 'graph.pbtxt')\n",
    "ckpt_path = os.path.join(path_to_outputs, 'model.ckpt-300000')\n",
    "frozen_graph_path = os.path.join(path_to_outputs, \"frozen_graph_MergeSummary.pb\")"
   ]
  },
  {
   "cell_type": "code",
   "execution_count": 9,
   "metadata": {},
   "outputs": [
    {
     "name": "stdout",
     "output_type": "stream",
     "text": [
      "INFO:tensorflow:Restoring parameters from ../../../../outputs/fasterRCNN_07_02_img_resize/model.ckpt-300000\n",
      "INFO:tensorflow:Froze 276 variables.\n",
      "INFO:tensorflow:Converted 276 variables to const ops.\n"
     ]
    }
   ],
   "source": [
    "freeze_graph.freeze_graph(input_graph=pbtxt_path,\n",
    "                          input_saver='',input_binary=False,\n",
    "                          input_checkpoint=ckpt_path,\n",
    "                          output_node_names='Merge/MergeSummary', \n",
    "                          #output_node_names = 'group_deps', \n",
    "                          #output_node_names ? Found the last node name in pbtxt_file: 'Merge/MergeSummary'\n",
    "                          # Or a random one in TensorBoard: 'group_deps', \n",
    "                          \n",
    "                          restore_op_name='save/restore_all',\n",
    "                          filename_tensor_name='save/Const:0',\n",
    "                          output_graph=frozen_graph_path,\n",
    "                          clear_devices=True,initializer_nodes='')\n"
   ]
  },
  {
   "cell_type": "markdown",
   "metadata": {},
   "source": [
    "# Inference"
   ]
  },
  {
   "cell_type": "code",
   "execution_count": 4,
   "metadata": {},
   "outputs": [],
   "source": [
    "import argparse\n",
    "import glob\n",
    "import os\n",
    "import sys\n",
    "import time\n",
    "\n",
    "import PIL\n",
    "#import humanfriendly\n",
    "import matplotlib\n",
    "matplotlib.use('TkAgg')\n",
    "import matplotlib.image as mpimg\n",
    "import matplotlib.patches as patches\n",
    "import matplotlib.pyplot as plt\n",
    "import matplotlib.ticker as ticker\n",
    "import numpy as np\n",
    "import tensorflow as tf\n",
    "from tqdm import tqdm"
   ]
  },
  {
   "cell_type": "code",
   "execution_count": 12,
   "metadata": {},
   "outputs": [
    {
     "data": {
      "text/plain": [
       "<tensorflow.python.framework.ops.Graph at 0x7f04db0164a8>"
      ]
     },
     "execution_count": 12,
     "metadata": {},
     "output_type": "execute_result"
    }
   ],
   "source": [
    "def load_model(checkpoint):\n",
    "    \"\"\"\n",
    "    Load a detection model (i.e., create a graph) from a .pb file\n",
    "    \"\"\"\n",
    "\n",
    "    detection_graph = tf.Graph()\n",
    "    with detection_graph.as_default():\n",
    "        od_graph_def = tf.GraphDef()\n",
    "        with tf.gfile.GFile(checkpoint, 'rb') as fid:\n",
    "            serialized_graph = fid.read()\n",
    "            od_graph_def.ParseFromString(serialized_graph)\n",
    "            tf.import_graph_def(od_graph_def, name='')\n",
    "    \n",
    "    return detection_graph\n",
    "\n",
    "load_model(frozen_graph_path)"
   ]
  },
  {
   "cell_type": "code",
   "execution_count": 5,
   "metadata": {},
   "outputs": [],
   "source": [
    "from run_tf_detector import *"
   ]
  },
  {
   "cell_type": "code",
   "execution_count": 26,
   "metadata": {},
   "outputs": [
    {
     "data": {
      "text/plain": [
       "'../../../../data/Sample_imagery_6-7/116592_clipped.png'"
      ]
     },
     "execution_count": 26,
     "metadata": {},
     "output_type": "execute_result"
    }
   ],
   "source": [
    "sample_img_path = os.path.join(path_to_root,'data/Sample_imagery_6-7/116592_clipped.png')\n",
    "sample_img_path"
   ]
  },
  {
   "cell_type": "code",
   "execution_count": 25,
   "metadata": {},
   "outputs": [
    {
     "data": {
      "text/plain": [
       "'../../../../outputs/fasterRCNN_07_02_img_resize/frozen_graph_MergeSummary.pb'"
      ]
     },
     "execution_count": 25,
     "metadata": {},
     "output_type": "execute_result"
    }
   ],
   "source": [
    "frozen_graph_path"
   ]
  },
  {
   "cell_type": "code",
   "execution_count": 6,
   "metadata": {},
   "outputs": [
    {
     "name": "stdout",
     "output_type": "stream",
     "text": [
      "Running detector on 1 images\n",
      "Loading model...\n",
      "Traceback (most recent call last):\n",
      "  File \"run_tf_detector.py\", line 544, in <module>\n",
      "    main()\n",
      "  File \"run_tf_detector.py\", line 539, in main\n",
      "    confidenceThreshold=args.threshold, outputDir=args.outputDir)\n",
      "  File \"run_tf_detector.py\", line 379, in load_and_run_detector\n",
      "    print(\"Loaded model in {}\".format(humanfriendly.format_timespan(elapsed)))\n",
      "NameError: name 'humanfriendly' is not defined\n"
     ]
    }
   ],
   "source": [
    "! python run_tf_detector.py '../../../../outputs/fasterRCNN_07_02_img_resize/frozen_graph_MergeSummary.pb' --imageFile '../../../../data/Sample_imagery_6-7/116592_clipped.png'"
   ]
  },
  {
   "cell_type": "markdown",
   "metadata": {},
   "source": [
    "Output:\n",
    "    \n",
    "    Running detector on 1 images\n",
    "Loading model...\n",
    "Loaded model in 1.17 second\n",
    "Loading images...\n",
    "100%|################################################################################################################################################################################| 1/1 [00:00<00:00, 14.05it/s]\n",
    "Finished loading 1 file(s) in 0.07 seconds\n",
    "Running detector...\n",
    "0it [00:00, ?it/s]\n",
    "Traceback (most recent call last):\n",
    "  File \"run_tf_detector.py\", line 544, in <module>\n",
    "    main()\n",
    "  File \"run_tf_detector.py\", line 539, in main\n",
    "    confidenceThreshold=args.threshold, outputDir=args.outputDir)\n",
    "  File \"run_tf_detector.py\", line 381, in load_and_run_detector\n",
    "    boxes,scores,classes,images = generate_detections(detection_graph,imageFileNames)\n",
    "  File \"run_tf_detector.py\", line 157, in generate_detections\n",
    "    image_tensor = detection_graph.get_tensor_by_name('image_tensor:0')\n",
    "  File \"/usr/local/lib/python3.5/dist-packages/tensorflow/python/framework/ops.py\", line 3666, in get_tensor_by_name\n",
    "    return self.as_graph_element(name, allow_tensor=True, allow_operation=False)\n",
    "  File \"/usr/local/lib/python3.5/dist-packages/tensorflow/python/framework/ops.py\", line 3490, in as_graph_element\n",
    "    return self._as_graph_element_locked(obj, allow_tensor, allow_operation)\n",
    "  File \"/usr/local/lib/python3.5/dist-packages/tensorflow/python/framework/ops.py\", line 3532, in _as_graph_element_locked\n",
    "    \"graph.\" % (repr(name), repr(op_name)))\n",
    "KeyError: \"The name 'image_tensor:0' refers to a Tensor which does not exist. The operation, 'image_tensor', does not exist in the graph.\"\n",
    "root@ac95df47b5f6:/charlie/repos/dams/tfod/detection# cd ../../..\n"
   ]
  },
  {
   "cell_type": "code",
   "execution_count": null,
   "metadata": {},
   "outputs": [],
   "source": []
  },
  {
   "cell_type": "markdown",
   "metadata": {},
   "source": [
    "# Aternatives"
   ]
  },
  {
   "cell_type": "code",
   "execution_count": null,
   "metadata": {},
   "outputs": [],
   "source": []
  }
 ],
 "metadata": {
  "kernelspec": {
   "display_name": "Python 3",
   "language": "python",
   "name": "python3"
  },
  "language_info": {
   "codemirror_mode": {
    "name": "ipython",
    "version": 3
   },
   "file_extension": ".py",
   "mimetype": "text/x-python",
   "name": "python",
   "nbconvert_exporter": "python",
   "pygments_lexer": "ipython3",
   "version": "3.5.2"
  }
 },
 "nbformat": 4,
 "nbformat_minor": 2
}
