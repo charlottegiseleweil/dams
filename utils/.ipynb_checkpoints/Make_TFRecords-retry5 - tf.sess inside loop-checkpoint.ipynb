{
 "cells": [
  {
   "cell_type": "code",
   "execution_count": 2,
   "metadata": {},
   "outputs": [
    {
     "name": "stdout",
     "output_type": "stream",
     "text": [
      "Good morning sunshine\n"
     ]
    }
   ],
   "source": [
    "print('Good morning sunshine')"
   ]
  },
  {
   "cell_type": "markdown",
   "metadata": {},
   "source": [
    "This script requires TF + gdal + pip install request, shapely"
   ]
  },
  {
   "cell_type": "code",
   "execution_count": 6,
   "metadata": {},
   "outputs": [],
   "source": [
    "import itertools\n",
    "import time\n",
    "import zipfile\n",
    "import shutil\n",
    "import json\n",
    "import os\n",
    "import sys\n",
    "import logging\n",
    "import glob\n",
    "\n",
    "import numpy\n",
    "import tensorflow as tf\n",
    "\n",
    "# Installed in addition\n",
    "import requests\n",
    "\n",
    "## Useless?\n",
    "from osgeo import gdal\n",
    "import ogr\n",
    "import shapely.wkb\n",
    "import shapely.prepared\n",
    "#from retrying import retry\n",
    "\n",
    "import random\n",
    "random.seed(900)"
   ]
  },
  {
   "cell_type": "code",
   "execution_count": 13,
   "metadata": {},
   "outputs": [
    {
     "name": "stdout",
     "output_type": "stream",
     "text": [
      "1.11.3\n"
     ]
    }
   ],
   "source": [
    "import osgeo\n",
    "print(osgeo.__version__)"
   ]
  },
  {
   "cell_type": "code",
   "execution_count": 4,
   "metadata": {},
   "outputs": [],
   "source": [
    "LOGGER = logging.getLogger()\n",
    "LOGGER.setLevel(logging.DEBUG)\n",
    "LOGGER.info(\"Logger in INFO mode\")\n",
    "LOGGER.debug(\"Logger in DEBUG mode\")\n",
    "LOGGER.debug(\"Logger in DEBUG mode\")\n",
    "\n",
    "REQUEST_TIMEOUT = 1.0"
   ]
  },
  {
   "cell_type": "code",
   "execution_count": 5,
   "metadata": {},
   "outputs": [],
   "source": [
    "logging.basicConfig(level=logging.INFO,\n",
    "                    format=('%(asctime)s (%(relativeCreated)d) %(levelname)s %(name)s'\n",
    "                            ' [%(funcName)s:%(lineno)d] %(message)s'),\n",
    "                    stream=sys.stdout)"
   ]
  },
  {
   "cell_type": "markdown",
   "metadata": {},
   "source": [
    "#### Dataset paths "
   ]
  },
  {
   "cell_type": "code",
   "execution_count": 8,
   "metadata": {},
   "outputs": [],
   "source": [
    "path_to_charlie_root = \"../../..\"\n",
    "NOT_A_DAM_IMAGE_DIR = os.path.join(path_to_charlie_root,\"data/imagery-6-7-2019/not_a_dam_images\")\n",
    "DAM_IMAGE_DIR = os.path.join(path_to_charlie_root,\"data/imagery-6-7-2019/dam_images\")\n",
    "\n",
    "TM_WORLD_BORDERS_URL = 'https://storage.googleapis.com/ecoshard-root/ipbes/TM_WORLD_BORDERS_SIMPL-0.3_md5_15057f7b17752048f9bd2e2e607fe99c.zip'\n",
    "\n",
    "if not os.path.exists(NOT_A_DAM_IMAGE_DIR):\n",
    "    raise ValueError(\"can't find %s'\" % NOT_A_DAM_IMAGE_DIR)\n",
    "if not os.path.exists(DAM_IMAGE_DIR):\n",
    "    raise ValueError(\"can't find %s'\" % DAM_IMAGE_DIR)\n",
    "    \n",
    "OUTPUTS_DIR = os.path.join(path_to_charlie_root,\"data/TFRecords_imagery_6-7_made_6-14_retry4\")\n",
    "WORKSPACE_DIR = OUTPUTS_DIR\n",
    "    "
   ]
  },
  {
   "cell_type": "markdown",
   "metadata": {},
   "source": [
    "Run just one of the 2 cells below! (full dataset or subset)"
   ]
  },
  {
   "cell_type": "code",
   "execution_count": 5,
   "metadata": {},
   "outputs": [],
   "source": [
    "## Subsets of data inputs - for faster development purposes\n",
    "\n",
    "dam_file_list = [os.path.join(DAM_IMAGE_DIR, f)\n",
    "                 for f in os.listdir(DAM_IMAGE_DIR) if f.endswith('5140_clipped.png')]\n",
    "not_a_dam_file_list = [os.path.join(NOT_A_DAM_IMAGE_DIR, f)\n",
    "                       for f in os.listdir(NOT_A_DAM_IMAGE_DIR) if f.endswith('362_not_a_dam_bb.png')]"
   ]
  },
  {
   "cell_type": "code",
   "execution_count": 9,
   "metadata": {},
   "outputs": [],
   "source": [
    "## Full dataset\n",
    "\n",
    "dam_file_list = [os.path.join(DAM_IMAGE_DIR, f)\n",
    "                 for f in os.listdir(DAM_IMAGE_DIR) if f.endswith('clipped.png')]\n",
    "not_a_dam_file_list = [os.path.join(NOT_A_DAM_IMAGE_DIR, f)\n",
    "                       for f in os.listdir(NOT_A_DAM_IMAGE_DIR) if f.endswith('.png')]"
   ]
  },
  {
   "cell_type": "markdown",
   "metadata": {},
   "source": [
    "Dataset stats"
   ]
  },
  {
   "cell_type": "code",
   "execution_count": 20,
   "metadata": {},
   "outputs": [
    {
     "data": {
      "text/plain": [
       "30337"
      ]
     },
     "execution_count": 20,
     "metadata": {},
     "output_type": "execute_result"
    }
   ],
   "source": [
    "len(dam_file_list)"
   ]
  },
  {
   "cell_type": "code",
   "execution_count": 21,
   "metadata": {},
   "outputs": [
    {
     "data": {
      "text/plain": [
       "11798"
      ]
     },
     "execution_count": 21,
     "metadata": {},
     "output_type": "execute_result"
    }
   ],
   "source": [
    "len(not_a_dam_file_list)"
   ]
  },
  {
   "cell_type": "markdown",
   "metadata": {},
   "source": [
    "Do run this one to merge dam_list and not_a_dam_list"
   ]
  },
  {
   "cell_type": "code",
   "execution_count": 10,
   "metadata": {},
   "outputs": [
    {
     "data": {
      "text/plain": [
       "42135"
      ]
     },
     "execution_count": 10,
     "metadata": {},
     "output_type": "execute_result"
    }
   ],
   "source": [
    "all_images_file_list = dam_file_list+not_a_dam_file_list\n",
    "random.shuffle(all_images_file_list)\n",
    "len(all_images_file_list)"
   ]
  },
  {
   "cell_type": "code",
   "execution_count": null,
   "metadata": {},
   "outputs": [],
   "source": [
    "all_images_file_list"
   ]
  },
  {
   "cell_type": "markdown",
   "metadata": {},
   "source": [
    "Because the computation of the full dataset crashes, let's do it bits by bits, pickling the list of paths so they stay in order.\n"
   ]
  },
  {
   "cell_type": "code",
   "execution_count": null,
   "metadata": {},
   "outputs": [],
   "source": [
    "with open(\"list_of_paths.txt\", \"wb\") as file:\n",
    "    pickle.dump(all_images_file_list, file)\n",
    "... \n",
    ">>> with open(\"list_of_paths.txt\", \"rb\") as file:   # Unpickling\n",
    "...   all_images_file_list = pickle.load(file)\n",
    "... \n",
    ">>> b\n",
    "[1, 2, 3, 4]"
   ]
  },
  {
   "cell_type": "markdown",
   "metadata": {},
   "source": [
    "#### Parameters"
   ]
  },
  {
   "cell_type": "code",
   "execution_count": 11,
   "metadata": {},
   "outputs": [],
   "source": [
    "holdout_set_portion = .2\n",
    "validation_set_portion = .15\n",
    "DAMS_PER_RECORD = 1000 # 5 in dev mode   # BADLY NAMED VARIABLE\n",
    "\n",
    "def int64_feature(value):\n",
    "    return tf.train.Feature(int64_list=tf.train.Int64List(value=[value]))\n",
    "def int64_list_feature(value):\n",
    "    return tf.train.Feature(int64_list=tf.train.Int64List(value=value))\n",
    "def bytes_feature(value):\n",
    "    return tf.train.Feature(bytes_list=tf.train.BytesList(value=[value]))\n",
    "def bytes_list_feature(value):\n",
    "    return tf.train.Feature(bytes_list=tf.train.BytesList(value=value))\n",
    "def float_list_feature(value):\n",
    "    return tf.train.Feature(float_list=tf.train.FloatList(value=value))\n"
   ]
  },
  {
   "cell_type": "markdown",
   "metadata": {},
   "source": [
    "#### Get South Africa geometry"
   ]
  },
  {
   "cell_type": "code",
   "execution_count": 12,
   "metadata": {},
   "outputs": [],
   "source": [
    "def download_url_to_file(url, target_file_path):\n",
    "    \"\"\"Use requests to download a file.\n",
    "\n",
    "    Parameters:\n",
    "        url (string): url to file.\n",
    "        target_file_path (string): local path to download the file.\n",
    "\n",
    "    Returns:\n",
    "        None.\n",
    "\n",
    "    \"\"\"\n",
    "    try:\n",
    "        response = requests.get(url, stream=True, timeout=REQUEST_TIMEOUT)\n",
    "        try:\n",
    "            os.makedirs(os.path.dirname(target_file_path))\n",
    "        except OSError:\n",
    "            pass\n",
    "        with open(target_file_path, 'wb') as target_file:\n",
    "            shutil.copyfileobj(response.raw, target_file)\n",
    "        del response\n",
    "    except:\n",
    "        LOGGER.exception('download of {url} to {target_file_path} failed')\n",
    "        # mods from LOGGER.exception(f'download of {url} to {target_file_path} failed')\n",
    "        raise\n",
    "\n",
    "        \n",
    "        \n",
    "        \n",
    "tm_world_borders_zip_path = os.path.join(\n",
    "        WORKSPACE_DIR, 'world_borders', os.path.basename(TM_WORLD_BORDERS_URL))\n",
    "if not os.path.exists(tm_world_borders_zip_path):\n",
    "    download_url_to_file(TM_WORLD_BORDERS_URL, tm_world_borders_zip_path)\n",
    "    with zipfile.ZipFile(tm_world_borders_zip_path, 'r') as zip_ref:\n",
    "        zip_ref.extractall(WORKSPACE_DIR)\n",
    "\n",
    "tm_world_borders_vector_path = os.path.join(\n",
    "    WORKSPACE_DIR, 'TM_WORLD_BORDERS-0.3.shp')\n",
    "#tm_world_borders_vector = gdal.Open(ogr.Open(tm_world_borders_vector_path)) # Changed OpenEx to Open.\n",
    "    #tm_world_borders_vector_path,ogr.Open(path))#, gdal.OF_VECTOR)\n",
    "tm_world_borders_vector = ogr.Open(tm_world_borders_vector_path)\n",
    "tm_world_borders_layer = tm_world_borders_vector.GetLayer()\n",
    "for border_feature in tm_world_borders_layer:\n",
    "    if border_feature.GetField('NAME') == 'South Africa':\n",
    "        sa_geom = border_feature.GetGeometryRef()\n",
    "        sa_geom_prep = shapely.prepared.prep(\n",
    "            shapely.wkb.loads(sa_geom.ExportToWkb()))\n",
    "        break\n",
    "LOGGER.debug(sa_geom_prep)"
   ]
  },
  {
   "cell_type": "markdown",
   "metadata": {},
   "source": [
    "Alternative for gdal issues: hard coding South Af \"recatangle\" (see below)"
   ]
  },
  {
   "cell_type": "markdown",
   "metadata": {},
   "source": [
    "# Now Make TFRecords !"
   ]
  },
  {
   "cell_type": "markdown",
   "metadata": {},
   "source": [
    "Utils: Function to make_TFRecords from a list of images_paths"
   ]
  },
  {
   "cell_type": "code",
   "execution_count": 13,
   "metadata": {},
   "outputs": [],
   "source": [
    "def make_TFRecords(dam_file_list,tf_record_iteration):\n",
    "    '''Function to make_TFRecords from a list of images_paths'''\n",
    "    \n",
    "    print('Starting to make TFRecords %d' % tf_record_iteration)\n",
    "    \n",
    "\n",
    "    for image_path in dam_file_list:\n",
    "#             current_time = time.time()\n",
    "#             if current_time - last_time > 5.0:\n",
    "#                 LOGGER.info('training_log: %s', training_log)\n",
    "#                 LOGGER.info('validation_log: %s', validation_log)\n",
    "#                 LOGGER.info('southaf_log: %s', southaf_log)\n",
    "#                 LOGGER.info('training_writer_count: %d', training_writer_count)\n",
    "#                 LOGGER.info('validation_writer_count: %d', validation_writer_count)\n",
    "#                 last_time = current_time\n",
    "\n",
    "        #  Note from Rich:\n",
    "        # looks like anything can be used here, including serializing\n",
    "        # a tensor tf.serialize_tensor\n",
    "        image_string = tf.read_file(image_path)\n",
    "        image_decoded = tf.image.decode_png(image_string).eval()\n",
    "        image_string = open(image_path, 'rb').read()\n",
    "        feature_dict = {\n",
    "            'image/height': int64_feature(\n",
    "                image_decoded.shape[0]),\n",
    "            'image/width': int64_feature(\n",
    "                image_decoded.shape[1]),\n",
    "            'image/filename': bytes_feature(\n",
    "                bytes(image_path, 'utf8')),\n",
    "            'image/source_id': bytes_feature(\n",
    "                bytes(image_path, 'utf8')),\n",
    "            'image/encoded': bytes_feature(image_string),\n",
    "            'image/format': bytes_feature(b'png'),\n",
    "        }\n",
    "\n",
    "        # if this image is a dam:\n",
    "\n",
    "        json_path = image_path.replace('.png', '.json')\n",
    "        if os.path.exists(json_path):\n",
    "            dam_type = b'dam'\n",
    "\n",
    "            with open(json_path, 'r') as json_file:\n",
    "                image_metadata = json.load(json_file)\n",
    "            xmin = image_metadata['pixel_bounding_box'][0] / float(image_decoded.shape[0])\n",
    "            xmax = image_metadata['pixel_bounding_box'][2] / float(image_decoded.shape[0])\n",
    "            ymin = image_metadata['pixel_bounding_box'][3] / float(image_decoded.shape[1])\n",
    "            ymax = image_metadata['pixel_bounding_box'][1] / float(image_decoded.shape[1])\n",
    "            if (xmin < 0 or ymin < 0 or xmax > 1 or ymax > 1):\n",
    "                #LOGGER.warning('bounding box out of bounds %s %s %s %s',\n",
    "                #               xmin, xmax, ymin, ymax)\n",
    "                xmin = max(0, xmin)\n",
    "                xmax = min(xmax, 1)\n",
    "                ymin = max(0, ymin)\n",
    "                ymax = min(ymax, 1)\n",
    "\n",
    "            feature_dict.update({\n",
    "                'image/object/bbox/xmin': float_list_feature([xmin]),\n",
    "                'image/object/bbox/xmax': float_list_feature([xmax]),\n",
    "                'image/object/bbox/ymin': float_list_feature([ymin]),\n",
    "                'image/object/bbox/ymax': float_list_feature([ymax]),\n",
    "                'image/object/class/label': int64_list_feature(\n",
    "                    [1]),  # the '1' is type 1 which is a dam\n",
    "                'image/object/class/text': bytes_list_feature(\n",
    "                    [b'dam']),\n",
    "            })\n",
    "            tf_record = tf.train.Example(features=tf.train.Features(\n",
    "                feature=feature_dict))\n",
    "        else:\n",
    "            dam_type = b'not_a_dam'\n",
    "            \n",
    "            json_path = image_path.replace('_bb.png', '.json')\n",
    "            with open(json_path, 'r') as json_file:\n",
    "                image_metadata = json.load(json_file)\n",
    "            \n",
    "            tf_record = tf.train.Example(features=tf.train.Features(\n",
    "                feature=feature_dict))\n",
    "\n",
    "        \n",
    "        # Choose whether this record will go to training or validation (=dev) set \n",
    "\n",
    "        # For now only have centroids for dams (no lat/lon for not_a_dams, so fixinf to 99999 NoData for now) !!\n",
    "        try:\n",
    "            centroid = image_metadata['lng_lat_centroid']\n",
    "        except NameError:\n",
    "            raise Exception(\"Missing lat/lon for in file\", json_path)\n",
    "            \n",
    "        random_number = numpy.random.random()\n",
    "        if sa_geom_prep.contains(shapely.geometry.Point(centroid[0], centroid[1])): # both for dams & not_a_dams\n",
    "            writer = southaf_writer\n",
    "            log = southaf_log\n",
    "        elif random_number < holdout_set_portion:\n",
    "            writer = test_writer\n",
    "            log = test_log\n",
    "        elif random_number > (1-validation_set_portion):\n",
    "            writer = validation_writer\n",
    "            log = validation_log\n",
    "        else:\n",
    "            writer = training_writer\n",
    "            log = training_log\n",
    "        writer.write(tf_record.SerializeToString())\n",
    "\n",
    "        # Add stats \n",
    "        log[dam_type] += 1\n",
    "\n",
    "\n",
    "\n",
    "\n",
    "    return training_log, validation_log, test_log, southaf_log"
   ]
  },
  {
   "cell_type": "markdown",
   "metadata": {},
   "source": [
    "Full loop:"
   ]
  },
  {
   "cell_type": "code",
   "execution_count": null,
   "metadata": {
    "scrolled": true
   },
   "outputs": [
    {
     "name": "stdout",
     "output_type": "stream",
     "text": [
      "2019-06-15 00:11:52,690 (501612) INFO root [<module>:33] tf_record_iteration 0\n",
      "Starting to make TFRecords 0\n",
      "training_log {b'dam': 527, b'not_a_dam': 99}\n",
      "validation_log {b'dam': 132, b'not_a_dam': 20}\n",
      "test_log {b'dam': 171, b'not_a_dam': 26}\n",
      "southaf_log {b'dam': 19, b'not_a_dam': 6}\n",
      "\n",
      "\n",
      "2019-06-15 00:12:24,216 (533138) INFO root [<module>:33] tf_record_iteration 1\n",
      "Starting to make TFRecords 1\n"
     ]
    }
   ],
   "source": [
    "# Make workspace outputs directories doesn't exist\n",
    "directories_to_make = [WORKSPACE_DIR,\n",
    "                       os.path.join(WORKSPACE_DIR,'training_set'),\n",
    "                       os.path.join(WORKSPACE_DIR,'validation_set'),\n",
    "                       os.path.join(WORKSPACE_DIR,'test_set'),\n",
    "                       os.path.join(WORKSPACE_DIR,'southaf_set')]\n",
    "for directory in directories_to_make:\n",
    "    try:\n",
    "        os.makedirs(directory)\n",
    "    except OSError:\n",
    "        pass\n",
    "    \n",
    "    \n",
    "# Do the thing    \n",
    "training_log = {b'dam': 0, b'not_a_dam': 0}\n",
    "validation_log = {b'dam': 0, b'not_a_dam': 0}\n",
    "test_log = {b'dam': 0, b'not_a_dam': 0}\n",
    "southaf_log = {b'dam': 0, b'not_a_dam': 0}\n",
    "\n",
    "last_time = time.time()\n",
    "\n",
    "training_writer_count = 0\n",
    "validation_writer_count = 0\n",
    "tf_record_iteration = 0\n",
    "max_tf_record_iteration = int(len(all_images_file_list)/DAMS_PER_RECORD)\n",
    "\n",
    "\n",
    "\n",
    "while tf_record_iteration <= max_tf_record_iteration:\n",
    "    \n",
    "    with tf.Graph().as_default(), tf.Session() as sess:\n",
    "\n",
    "        LOGGER.info('tf_record_iteration %d' % tf_record_iteration)\n",
    "\n",
    "        # Open writers\n",
    "        training_writer = tf.python_io.TFRecordWriter(os.path.join(WORKSPACE_DIR,\n",
    "                     'training_set/dams_%d.record' % tf_record_iteration))\n",
    "        validation_writer = tf.python_io.TFRecordWriter(os.path.join(WORKSPACE_DIR,\n",
    "                         'validation_set/dams_%d.record' % tf_record_iteration))\n",
    "        test_writer = tf.python_io.TFRecordWriter(os.path.join(WORKSPACE_DIR,\n",
    "                         'test_set/dams_%d.record' % tf_record_iteration))\n",
    "        southaf_writer = tf.python_io.TFRecordWriter(os.path.join(WORKSPACE_DIR,\n",
    "                     'southaf_set/dams_%d.record' % tf_record_iteration))\n",
    "\n",
    "        # Get a slice of the dataset\n",
    "        slice_dam_images_list = all_images_file_list[tf_record_iteration*DAMS_PER_RECORD:min((tf_record_iteration+1)*DAMS_PER_RECORD,len(all_images_file_list))]\n",
    "\n",
    "        #This is where I make TFRecords!\n",
    "        training_log, validation_log, test_log, southaf_log = make_TFRecords(slice_dam_images_list,tf_record_iteration)\n",
    "\n",
    "        # Close writers\n",
    "        training_writer.close()\n",
    "        validation_writer.close()\n",
    "        southaf_writer.close()\n",
    "        test_writer.close()\n",
    "\n",
    "        # Advance loop\n",
    "        tf_record_iteration += 1\n",
    "\n",
    "        print('training_log',training_log)\n",
    "        print('validation_log',validation_log)\n",
    "        print('test_log',test_log)\n",
    "        print('southaf_log',southaf_log)\n",
    "        print('\\n')\n",
    "\n",
    "    \n",
    "    \n",
    "#@retry(wait_exponential_multiplier=1000, wait_exponential_max=10000)\n"
   ]
  },
  {
   "cell_type": "code",
   "execution_count": null,
   "metadata": {},
   "outputs": [],
   "source": []
  },
  {
   "cell_type": "code",
   "execution_count": 13,
   "metadata": {},
   "outputs": [
    {
     "name": "stdout",
     "output_type": "stream",
     "text": [
      "Kernel available now\n"
     ]
    }
   ],
   "source": [
    "print('Kernel available now')"
   ]
  },
  {
   "cell_type": "code",
   "execution_count": null,
   "metadata": {},
   "outputs": [],
   "source": []
  },
  {
   "cell_type": "code",
   "execution_count": null,
   "metadata": {},
   "outputs": [],
   "source": []
  },
  {
   "cell_type": "code",
   "execution_count": null,
   "metadata": {},
   "outputs": [],
   "source": []
  },
  {
   "cell_type": "code",
   "execution_count": null,
   "metadata": {},
   "outputs": [],
   "source": []
  },
  {
   "cell_type": "markdown",
   "metadata": {},
   "source": [
    "# Notes & stuffs"
   ]
  },
  {
   "cell_type": "markdown",
   "metadata": {},
   "source": [
    "#### Alternative to shapefiles of South Africa - harcoding lat/lon:"
   ]
  },
  {
   "cell_type": "code",
   "execution_count": 23,
   "metadata": {},
   "outputs": [],
   "source": [
    "def make_TFRecords_withSouthAf_rectangle(dam_file_list,tf_record_iteration):\n",
    "    '''Function to make_TFRecords from a list of images_paths'''\n",
    "    \n",
    "    print('Starting to make TFRecords %d' % tf_record_iteration)\n",
    "    \n",
    "\n",
    "    for image_path in dam_file_list:\n",
    "#             current_time = time.time()\n",
    "#             if current_time - last_time > 5.0:\n",
    "#                 LOGGER.info('training_log: %s', training_log)\n",
    "#                 LOGGER.info('validation_log: %s', validation_log)\n",
    "#                 LOGGER.info('southaf_log: %s', southaf_log)\n",
    "#                 LOGGER.info('training_writer_count: %d', training_writer_count)\n",
    "#                 LOGGER.info('validation_writer_count: %d', validation_writer_count)\n",
    "#                 last_time = current_time\n",
    "\n",
    "        #  Note from Rich:\n",
    "        # looks like anything can be used here, including serializing\n",
    "        # a tensor tf.serialize_tensor\n",
    "        image_string = tf.read_file(image_path)\n",
    "        image_decoded = tf.image.decode_png(image_string).eval()\n",
    "        image_string = open(image_path, 'rb').read()\n",
    "        feature_dict = {\n",
    "            'image/height': int64_feature(\n",
    "                image_decoded.shape[0]),\n",
    "            'image/width': int64_feature(\n",
    "                image_decoded.shape[1]),\n",
    "            'image/filename': bytes_feature(\n",
    "                bytes(image_path, 'utf8')),\n",
    "            'image/source_id': bytes_feature(\n",
    "                bytes(image_path, 'utf8')),\n",
    "            'image/encoded': bytes_feature(image_string),\n",
    "            'image/format': bytes_feature(b'png'),\n",
    "        }\n",
    "\n",
    "        # if this image is a dam:\n",
    "\n",
    "        json_path = image_path.replace('.png', '.json')\n",
    "        if os.path.exists(json_path):\n",
    "            dam_type = b'dam'\n",
    "\n",
    "            with open(json_path, 'r') as json_file:\n",
    "                image_metadata = json.load(json_file)\n",
    "            xmin = image_metadata['pixel_bounding_box'][0] / float(image_decoded.shape[0])\n",
    "            xmax = image_metadata['pixel_bounding_box'][2] / float(image_decoded.shape[0])\n",
    "            ymin = image_metadata['pixel_bounding_box'][3] / float(image_decoded.shape[1])\n",
    "            ymax = image_metadata['pixel_bounding_box'][1] / float(image_decoded.shape[1])\n",
    "            if (xmin < 0 or ymin < 0 or xmax >= 1 or ymax >= 1):\n",
    "                LOGGER.warning('bounding box out of bounds %s %s %s %s',\n",
    "                               xmin, xmax, ymin, ymax)\n",
    "                xmin = max(0, xmin)\n",
    "                xmax = min(xmax, 1)\n",
    "                ymin = max(0, ymin)\n",
    "                ymax = min(ymax, 1)\n",
    "\n",
    "            feature_dict.update({\n",
    "                'image/object/bbox/xmin': float_list_feature([xmin]),\n",
    "                'image/object/bbox/xmax': float_list_feature([xmax]),\n",
    "                'image/object/bbox/ymin': float_list_feature([ymin]),\n",
    "                'image/object/bbox/ymax': float_list_feature([ymax]),\n",
    "                'image/object/class/label': int64_list_feature(\n",
    "                    [1]),  # the '1' is type 1 which is a dam\n",
    "                'image/object/class/text': bytes_list_feature(\n",
    "                    [b'dam']),\n",
    "            })\n",
    "            tf_record = tf.train.Example(features=tf.train.Features(\n",
    "                feature=feature_dict))\n",
    "        else:\n",
    "            dam_type = b'not_a_dam'\n",
    "            \n",
    "            json_path = image_path.replace('_bb.png', '.json')\n",
    "            with open(json_path, 'r') as json_file:\n",
    "                image_metadata = json.load(json_file)\n",
    "            \n",
    "            tf_record = tf.train.Example(features=tf.train.Features(\n",
    "                feature=feature_dict))\n",
    "\n",
    "        \n",
    "        # Choose whether this record will go to training or validation (=dev) set \n",
    "\n",
    "        # For now only have centroids for dams (no lat/lon for not_a_dams, so fixinf to 99999 NoData for now) !!\n",
    "        try:\n",
    "            centroid = image_metadata['lng_lat_centroid']\n",
    "        except NameError:\n",
    "            raise Exception(\"Missing lat/lon for in file\", json_path)\n",
    "        \n",
    "        # WHEN GDAL WORKS:\n",
    "        #centroid = image_metadata['lng_lat_centroid']\n",
    "        #if sa_geom_prep.contains(shapely.geometry.Point(centroid[0], centroid[1])): # removed: and dam_type == b'dam'\n",
    "        # Till then, hard code:\n",
    "\n",
    "\n",
    "        #South Africa coordinates\n",
    "        southaf_max_lon = -26.958585\n",
    "        southaf_max_lat = 29.682244\n",
    "        southaf_min_lon = -28.756566\n",
    "        southaf_min_lat = 19.959007\n",
    "\n",
    "        if ((southaf_min_lon < centroid[0] < southaf_max_lon) and\n",
    "            (southaf_min_lat < centroid[1] < southaf_max_lat)):\n",
    "            writer = southaf_writer\n",
    "            log = southaf_log\n",
    "        elif numpy.random.random() > dev_set_portion:\n",
    "            writer = training_writer\n",
    "            log = training_log\n",
    "        #elif POSSIBLY ADD MORE TEST SET HERE?\n",
    "        #    writer = test_writer\n",
    "        #    log = test_log\n",
    "        else:\n",
    "            writer = validation_writer\n",
    "            log = validation_log\n",
    "        writer.write(tf_record.SerializeToString())\n",
    "\n",
    "        # Add stats \n",
    "        log[dam_type] += 1\n",
    "\n",
    "\n",
    "\n",
    "\n",
    "    return training_log, validation_log, test_log, southaf_log"
   ]
  },
  {
   "cell_type": "markdown",
   "metadata": {},
   "source": [
    "### Rich's orginial function"
   ]
  },
  {
   "cell_type": "code",
   "execution_count": null,
   "metadata": {},
   "outputs": [],
   "source": [
    "def main():\n",
    "    \"\"\"Entry point.\"\"\"\n",
    "    try:\n",
    "        os.makedirs(WORKSPACE_DIR)\n",
    "    except OSError:\n",
    "        pass\n",
    "\n",
    "    training_log = {b'dam': 0, b'not_a_dam': 0}\n",
    "    validation_log = {b'dam': 0, b'not_a_dam': 0}\n",
    "    south_africa_log = {b'dam': 0, b'not_a_dam': 0}\n",
    "\n",
    "    last_time = time.time()\n",
    "    training_writer_count = 0\n",
    "    validation_writer_count = 0\n",
    "    tf_record_iteration = 0\n",
    "\n",
    "    ## Subsets for Dev\n",
    "    dam_file_iter = glob.iglob(os.path.join(DAM_IMAGE_DIR, '119*pped.png'))\n",
    "    no_a_dam_file_iter = glob.iglob(os.path.join(NOT_A_DAM_IMAGE_DIR, '350*.png'))\n",
    "    \n",
    "    ## REAL DATASET FULL\n",
    "    # dam_file_iter = glob.iglob(os.path.join(DAM_IMAGE_DIR, '*pped.png'))\n",
    "    # no_a_dam_file_iter = glob.iglob(os.path.join(NOT_A_DAM_IMAGE_DIR, '*.png'))\n",
    "    \n",
    "    #  NOT USING THIS BELOW BECAUSE NOT DOING 50/50.\n",
    "    #dam_list_iter = [\n",
    "    #    path for path_tuple in zip(dam_file_iter, no_a_dam_file_iter)\n",
    "    #    for path in path_tuple]\n",
    "\n",
    "    #while True:\n",
    "    #    # this makes DAMS_PER_RECORD list of files\n",
    "    #    dam_file_list = [\n",
    "    #        (path, dam_type) for path, dam_type in zip(\n",
    "    #            itertools.islice(\n",
    "    #                dam_list_iter,\n",
    "    #                DAMS_PER_RECORD*tf_record_iteration,\n",
    "    #                DAMS_PER_RECORD*(tf_record_iteration+1)),\n",
    "    #            itertools.cycle([b'dam', b'not_a_dam']))]\n",
    "\n",
    "        LOGGER.debug(dam_file_list)\n",
    "        if not dam_file_list:\n",
    "            break\n",
    "\n",
    "        with tf.Graph().as_default(), tf.Session() as sess:\n",
    "            training_writer = tf.python_io.TFRecordWriter(\n",
    "                os.path.join(\n",
    "                    WORKSPACE_DIR,\n",
    "                    'dam_training_%d.record' % tf_record_iteration))\n",
    "            validation_writer = tf.python_io.TFRecordWriter(\n",
    "                os.path.join(\n",
    "                    WORKSPACE_DIR,\n",
    "                    'dam_validation_%d.record' % tf_record_iteration))\n",
    "            south_africa_writer = tf.python_io.TFRecordWriter(os.path.join(\n",
    "                WORKSPACE_DIR, 'south_africa_%d.record' %\n",
    "                tf_record_iteration))\n",
    "\n",
    "            for image_path, dam_type in dam_file_list:\n",
    "                current_time = time.time()\n",
    "                if current_time - last_time > 5.0:\n",
    "                    LOGGER.info('training_log: %s', training_log)\n",
    "                    LOGGER.info('validation_log: %s', validation_log)\n",
    "                    LOGGER.info('south_africa_log: %s', south_africa_log)\n",
    "                    LOGGER.info('training_writer_count: %d', training_writer_count)\n",
    "                    LOGGER.info('validation_writer_count: %d', validation_writer_count)\n",
    "                    last_time = current_time\n",
    "                # looks like anything can be used here, including serializing\n",
    "                # a tensor tf.serialize_tensor\n",
    "                image_string = tf.read_file(image_path)\n",
    "                image_decoded = tf.image.decode_png(image_string).eval()\n",
    "                image_string = open(image_path, 'rb').read()\n",
    "                feature_dict = {\n",
    "                    'image/height': int64_feature(\n",
    "                        image_decoded.shape[0]),\n",
    "                    'image/width': int64_feature(\n",
    "                        image_decoded.shape[1]),\n",
    "                    'image/filename': bytes_feature(\n",
    "                        bytes(image_path, 'utf8')),\n",
    "                    'image/source_id': bytes_feature(\n",
    "                        bytes(image_path, 'utf8')),\n",
    "                    'image/encoded': bytes_feature(image_string),\n",
    "                    'image/format': bytes_feature(b'png'),\n",
    "                }\n",
    "                if dam_type == b'dam':\n",
    "                    json_path = image_path.replace('.png', '.json')\n",
    "                    with open(json_path, 'r') as json_file:\n",
    "                        image_metadata = json.load(json_file)\n",
    "                    xmin = image_metadata['pixel_bounding_box'][0] / float(image_decoded.shape[0])\n",
    "                    xmax = image_metadata['pixel_bounding_box'][2] / float(image_decoded.shape[0])\n",
    "                    ymin = image_metadata['pixel_bounding_box'][3] / float(image_decoded.shape[1])\n",
    "                    ymax = image_metadata['pixel_bounding_box'][1] / float(image_decoded.shape[1])\n",
    "                    if (xmin < 0 or ymin < 0 or\n",
    "                            xmax >= 1 or\n",
    "                            ymax >= 1):\n",
    "                        LOGGER.warning(\n",
    "                            'bounding box out of bounds %s %s %s %s',\n",
    "                            xmin, xmax, ymin, ymax)\n",
    "                        xmin = max(0, xmin)\n",
    "                        xmax = min(xmax, 1)\n",
    "                        ymin = max(0, ymin)\n",
    "                        ymax = min(ymax, 1)\n",
    "\n",
    "                    feature_dict.update({\n",
    "                        'image/object/bbox/xmin': float_list_feature([xmin]),\n",
    "                        'image/object/bbox/xmax': float_list_feature([xmax]),\n",
    "                        'image/object/bbox/ymin': float_list_feature([ymin]),\n",
    "                        'image/object/bbox/ymax': float_list_feature([ymax]),\n",
    "                        'image/object/class/label': int64_list_feature(\n",
    "                            [1]),  # the '1' is type 1 which is a dam\n",
    "                        'image/object/class/text': bytes_list_feature(\n",
    "                            [b'dam']),\n",
    "                    })\n",
    "                    tf_record = tf.train.Example(features=tf.train.Features(\n",
    "                        feature=feature_dict))\n",
    "\n",
    "                    centroid = image_metadata['lng_lat_centroid']\n",
    "                    if dam_type == b'dam' and sa_geom_prep.contains(\n",
    "                            shapely.geometry.Point(centroid[0], centroid[1])):\n",
    "                        writer = south_africa_writer\n",
    "                        log = south_africa_log\n",
    "                        writer.write(tf_record.SerializeToString())\n",
    "                        log[dam_type] += 1\n",
    "                        continue\n",
    "                else:\n",
    "                    tf_record = tf.train.Example(features=tf.train.Features(\n",
    "                        feature=feature_dict))\n",
    "                if numpy.random.random() > dev_set_portion:\n",
    "                    writer = training_writer\n",
    "                    log = training_log\n",
    "                else:\n",
    "                    writer = validation_writer\n",
    "                    log = validation_log\n",
    "                writer.write(tf_record.SerializeToString())\n",
    "                log[dam_type] += 1\n",
    "\n",
    "            LOGGER.info(\n",
    "                \"training writer full creating %d instance\" %\n",
    "                tf_record_iteration)\n",
    "            tf_record_iteration += 1\n",
    "            training_writer.close()\n",
    "            validation_writer.close()\n",
    "            south_africa_writer.close()\n",
    "\n",
    "    with open('write_stats.txt', 'w') as write_stats_file:\n",
    "        write_stats_file.write(\n",
    "            f\"\"\"validation: dam({validation_log[b'dam']}) not_a_dam({\n",
    "                validation_log[b'not_a_dam']})\\n\"\"\"\n",
    "            f\"\"\"training: dam({training_log[b'dam']}) not_a_dam({\n",
    "                training_log[b'not_a_dam']})\\n\"\"\"\n",
    "            f\"\"\"south_africa: dam({south_africa_log[b'dam']}) not_a_dam({\n",
    "                south_africa_log[b'not_a_dam']})\\n\"\"\")\n",
    "\n",
    "\n",
    "@retry(wait_exponential_multiplier=1000, wait_exponential_max=10000)"
   ]
  }
 ],
 "metadata": {
  "kernelspec": {
   "display_name": "Python 3",
   "language": "python",
   "name": "python3"
  }
 },
 "nbformat": 4,
 "nbformat_minor": 2
}
