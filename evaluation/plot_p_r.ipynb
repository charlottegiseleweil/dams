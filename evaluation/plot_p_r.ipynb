{
 "cells": [
  {
   "cell_type": "code",
   "execution_count": 1,
   "metadata": {},
   "outputs": [],
   "source": [
    "# imports\n",
    "import os\n",
    "import pandas as pd\n",
    "import numpy as np\n",
    "import matplotlib.pyplot as plt"
   ]
  },
  {
   "cell_type": "code",
   "execution_count": 2,
   "metadata": {},
   "outputs": [],
   "source": [
    "# set directories and inputs\n",
    "path_to_root = '../../..'\n",
    "path_to_results = os.path.join(path_to_root,'results')\n",
    "results_csv = os.path.join(path_to_results,'results_validation_fasterRCNN-07-27_IoU0.csv')\n",
    "\n",
    "medium_thres = 500\n",
    "large_thres = 1800\n",
    "iou_thres = str(0.0)"
   ]
  },
  {
   "cell_type": "code",
   "execution_count": 3,
   "metadata": {},
   "outputs": [],
   "source": [
    "# read as csv\n",
    "results_df = pd.read_csv(results_csv)\n",
    "results_df = results_df.drop('Unnamed: 0', axis=1)"
   ]
  },
  {
   "cell_type": "code",
   "execution_count": 4,
   "metadata": {},
   "outputs": [],
   "source": [
    "# size thresholding\n",
    "small_results_df = results_df[results_df['size'] < medium_thres]\n",
    "medium_results_df = results_df[results_df['size'] < large_thres]\n",
    "medium_results_df = medium_results_df[medium_results_df['size'] > medium_thres]\n",
    "large_results_df = results_df[results_df['size'] > large_thres]"
   ]
  },
  {
   "cell_type": "code",
   "execution_count": 5,
   "metadata": {},
   "outputs": [],
   "source": [
    "# function to add precision and recall\n",
    "def add_prec_recall (df):\n",
    "    '''\n",
    "    Args:\n",
    "        dataframe: dataframe with columns image, ground_truth, predicted, confidence, size, iou, tp, fp, fn\n",
    "    Returns:\n",
    "        dataframe: dataframe sorted by confidence score, with cumulative precision and recall\n",
    "    '''\n",
    "    # sort by confidence score and reset index\n",
    "    df = df.sort_values(by='confidence', ascending=False)\n",
    "    df= df.reset_index()\n",
    "    # cumulative sum of precision\n",
    "    df['cum_tp'] = df['tp@IoU'+str(iou_thres)].cumsum()\n",
    "    df['cum_fp'] = df['fp@IoU'+str(iou_thres)].cumsum()\n",
    "    df['precision'] = df['cum_tp'] / (df['cum_tp'] + df['cum_fp'])\n",
    "    # cumulative sum of recall\n",
    "    n_true_dams = len(df[df['ground_truth'].notnull()])\n",
    "    df['recall'] = df['cum_tp'] / n_true_dams\n",
    "    df = df.drop('cum_tp', axis=1).drop('cum_fp', axis=1)\n",
    "    \n",
    "    return df"
   ]
  },
  {
   "cell_type": "code",
   "execution_count": 6,
   "metadata": {},
   "outputs": [],
   "source": [
    "# add precision and recall\n",
    "results_df = add_prec_recall(results_df)\n",
    "small_results_df = add_prec_recall(small_results_df)\n",
    "medium_results_df = add_prec_recall(medium_results_df)\n",
    "large_results_df = add_prec_recall(large_results_df)"
   ]
  },
  {
   "cell_type": "code",
   "execution_count": 7,
   "metadata": {},
   "outputs": [
    {
     "data": {
      "text/plain": [
       "<matplotlib.axes._subplots.AxesSubplot at 0x7f3d418e8cf8>"
      ]
     },
     "execution_count": 7,
     "metadata": {},
     "output_type": "execute_result"
    },
    {
     "data": {
      "image/png": "[encoded data removed]",
      "text/plain": [
       "<Figure size 432x288 with 1 Axes>"
      ]
     },
     "metadata": {},
     "output_type": "display_data"
    }
   ],
   "source": [
    "large_pr_df = large_results_df[['precision', 'recall']]\n",
    "large_pr_df.plot(x='recall', y='precision')"
   ]
  },
  {
   "cell_type": "code",
   "execution_count": null,
   "metadata": {},
   "outputs": [],
   "source": [
    "medium_pr_df = medium_results_df[['precision', 'recall']]\n",
    "medium_pr_df.plot(x='recall', y='precision')"
   ]
  },
  {
   "cell_type": "code",
   "execution_count": null,
   "metadata": {},
   "outputs": [],
   "source": [
    "small_pr_df = small_results_df[['precision', 'recall']]\n",
    "small_pr_df.plot(x='recall', y='precision')"
   ]
  }
 ],
 "metadata": {
  "kernelspec": {
   "display_name": "Python 3",
   "language": "python",
   "name": "python3"
  },
  "language_info": {
   "codemirror_mode": {
    "name": "ipython",
    "version": 3
   },
   "file_extension": ".py",
   "mimetype": "text/x-python",
   "name": "python",
   "nbconvert_exporter": "python",
   "pygments_lexer": "ipython3",
   "version": "3.5.2"
  }
 },
 "nbformat": 4,
 "nbformat_minor": 2
}
