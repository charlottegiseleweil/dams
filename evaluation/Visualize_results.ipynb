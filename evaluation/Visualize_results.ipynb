{
 "cells": [
  {
   "cell_type": "code",
   "execution_count": 4,
   "metadata": {},
   "outputs": [],
   "source": [
    "import os\n",
    "import tqdm\n",
    "import numpy as np\n",
    "import pandas as pd"
   ]
  },
  {
   "cell_type": "code",
   "execution_count": 7,
   "metadata": {},
   "outputs": [],
   "source": [
    "path_to_root = '../../..'\n",
    "path_to_results = os.path.join(path_to_root,'results')\n",
    "results_csv = os.path.join(path_to_results,'results_validation_fasterRCNN-07-27_IoU0.csv')"
   ]
  },
  {
   "cell_type": "code",
   "execution_count": 9,
   "metadata": {},
   "outputs": [
    {
     "data": {
      "text/html": [
       "<div>\n",
       "<style scoped>\n",
       "    .dataframe tbody tr th:only-of-type {\n",
       "        vertical-align: middle;\n",
       "    }\n",
       "\n",
       "    .dataframe tbody tr th {\n",
       "        vertical-align: top;\n",
       "    }\n",
       "\n",
       "    .dataframe thead th {\n",
       "        text-align: right;\n",
       "    }\n",
       "</style>\n",
       "<table border=\"1\" class=\"dataframe\">\n",
       "  <thead>\n",
       "    <tr style=\"text-align: right;\">\n",
       "      <th></th>\n",
       "      <th>Unnamed: 0</th>\n",
       "      <th>image</th>\n",
       "      <th>ground_truth</th>\n",
       "      <th>predicted</th>\n",
       "      <th>confidence</th>\n",
       "      <th>size</th>\n",
       "      <th>iou</th>\n",
       "      <th>tp@IoU0.0</th>\n",
       "      <th>fp@IoU0.0</th>\n",
       "      <th>fn@IoU0.0</th>\n",
       "    </tr>\n",
       "  </thead>\n",
       "  <tbody>\n",
       "    <tr>\n",
       "      <th>0</th>\n",
       "      <td>0</td>\n",
       "      <td>107712.png</td>\n",
       "      <td>[315 311 333 337]</td>\n",
       "      <td>[308 311 328 338]</td>\n",
       "      <td>0.2847</td>\n",
       "      <td>468.0</td>\n",
       "      <td>0.5228</td>\n",
       "      <td>1</td>\n",
       "      <td>0</td>\n",
       "      <td>0</td>\n",
       "    </tr>\n",
       "    <tr>\n",
       "      <th>1</th>\n",
       "      <td>1</td>\n",
       "      <td>112998.png</td>\n",
       "      <td>[132 116 201 216]</td>\n",
       "      <td>[117 130 219 209]</td>\n",
       "      <td>0.9600</td>\n",
       "      <td>6900.0</td>\n",
       "      <td>0.5767</td>\n",
       "      <td>1</td>\n",
       "      <td>0</td>\n",
       "      <td>0</td>\n",
       "    </tr>\n",
       "    <tr>\n",
       "      <th>2</th>\n",
       "      <td>2</td>\n",
       "      <td>94711.png</td>\n",
       "      <td>[230 218 245 256]</td>\n",
       "      <td>[242 248 267 283]</td>\n",
       "      <td>0.0976</td>\n",
       "      <td>570.0</td>\n",
       "      <td>0.0236</td>\n",
       "      <td>1</td>\n",
       "      <td>0</td>\n",
       "      <td>0</td>\n",
       "    </tr>\n",
       "    <tr>\n",
       "      <th>3</th>\n",
       "      <td>3</td>\n",
       "      <td>111965.png</td>\n",
       "      <td>[150 131 186 206]</td>\n",
       "      <td>[135 153 197 180]</td>\n",
       "      <td>0.9132</td>\n",
       "      <td>2700.0</td>\n",
       "      <td>0.2927</td>\n",
       "      <td>1</td>\n",
       "      <td>0</td>\n",
       "      <td>0</td>\n",
       "    </tr>\n",
       "    <tr>\n",
       "      <th>4</th>\n",
       "      <td>4</td>\n",
       "      <td>1459-1095_not_a_dam.png</td>\n",
       "      <td>NaN</td>\n",
       "      <td>[242 246 257 263]</td>\n",
       "      <td>0.1054</td>\n",
       "      <td>NaN</td>\n",
       "      <td>NaN</td>\n",
       "      <td>0</td>\n",
       "      <td>1</td>\n",
       "      <td>0</td>\n",
       "    </tr>\n",
       "  </tbody>\n",
       "</table>\n",
       "</div>"
      ],
      "text/plain": [
       "   Unnamed: 0                    image       ground_truth          predicted  \\\n",
       "0           0               107712.png  [315 311 333 337]  [308 311 328 338]   \n",
       "1           1               112998.png  [132 116 201 216]  [117 130 219 209]   \n",
       "2           2                94711.png  [230 218 245 256]  [242 248 267 283]   \n",
       "3           3               111965.png  [150 131 186 206]  [135 153 197 180]   \n",
       "4           4  1459-1095_not_a_dam.png                NaN  [242 246 257 263]   \n",
       "\n",
       "   confidence    size     iou  tp@IoU0.0  fp@IoU0.0  fn@IoU0.0  \n",
       "0      0.2847   468.0  0.5228          1          0          0  \n",
       "1      0.9600  6900.0  0.5767          1          0          0  \n",
       "2      0.0976   570.0  0.0236          1          0          0  \n",
       "3      0.9132  2700.0  0.2927          1          0          0  \n",
       "4      0.1054     NaN     NaN          0          1          0  "
      ]
     },
     "execution_count": 9,
     "metadata": {},
     "output_type": "execute_result"
    }
   ],
   "source": [
    "df = pd.read_csv(results_csv)\n",
    "\n",
    "df.head()"
   ]
  },
  {
   "cell_type": "code",
   "execution_count": null,
   "metadata": {},
   "outputs": [],
   "source": [
    "## Calculate Precision"
   ]
  },
  {
   "cell_type": "code",
   "execution_count": null,
   "metadata": {},
   "outputs": [],
   "source": []
  },
  {
   "cell_type": "code",
   "execution_count": 10,
   "metadata": {},
   "outputs": [],
   "source": [
    "from sklearn.metrics import precision_recall_curve, confusion_matrix, average_precision_score"
   ]
  },
  {
   "cell_type": "code",
   "execution_count": null,
   "metadata": {},
   "outputs": [],
   "source": [
    "y_true = \n",
    "\n",
    "confusion_matrix(y_true, y_pred)"
   ]
  },
  {
   "cell_type": "code",
   "execution_count": null,
   "metadata": {},
   "outputs": [],
   "source": []
  },
  {
   "cell_type": "markdown",
   "metadata": {},
   "source": [
    "### Visualize images: Render GT+predicted bboxes on images"
   ]
  },
  {
   "cell_type": "code",
   "execution_count": null,
   "metadata": {},
   "outputs": [],
   "source": []
  }
 ],
 "metadata": {
  "kernelspec": {
   "display_name": "Python 3",
   "language": "python",
   "name": "python3"
  },
  "language_info": {
   "codemirror_mode": {
    "name": "ipython",
    "version": 3
   },
   "file_extension": ".py",
   "mimetype": "text/x-python",
   "name": "python",
   "nbconvert_exporter": "python",
   "pygments_lexer": "ipython3",
   "version": "3.5.2"
  }
 },
 "nbformat": 4,
 "nbformat_minor": 2
}
