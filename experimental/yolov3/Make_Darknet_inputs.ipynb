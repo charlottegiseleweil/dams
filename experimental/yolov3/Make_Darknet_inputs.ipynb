{
 "cells": [
  {
   "cell_type": "markdown",
   "metadata": {},
   "source": [
    "This script transform raw imagery (in not_a_dam_images and dam_images folders) to Darknet-formatted inputs for YOLOv3 (link to implementation Maanas?)\n",
    "\n",
    "Outputs in 2 directories:\n",
    "* images: has filename.png\n",
    "* labels: filename.txt : class, center x, center y, width, height (x y w h are all normalized (between 0 and 1) relative to image dimensions)"
   ]
  },
  {
   "cell_type": "code",
   "execution_count": 39,
   "metadata": {},
   "outputs": [],
   "source": [
    "# Imports for South Af\n",
    "import gdal\n",
    "import ogr\n",
    "import shapely.wkb\n",
    "import shapely.prepared"
   ]
  },
  {
   "cell_type": "code",
   "execution_count": 40,
   "metadata": {},
   "outputs": [],
   "source": [
    "# import required libraries\n",
    "\n",
    "import os\n",
    "import shutil\n",
    "import zipfile\n",
    "import json\n",
    "import numpy as np\n",
    "import random\n",
    "from matplotlib import image as mpimg\n",
    "\n",
    "\n",
    "import requests\n",
    "\n",
    "\n",
    "import logging\n",
    "LOGGER = logging.getLogger()\n",
    "LOGGER.setLevel(logging.DEBUG)\n",
    "LOGGER.info(\"Logger in INFO mode\")\n",
    "LOGGER.debug(\"Logger in DEBUG mode\")\n",
    "LOGGER.debug(\"Logger in DEBUG mode\")\n",
    "\n",
    "REQUEST_TIMEOUT = 1.0"
   ]
  },
  {
   "cell_type": "markdown",
   "metadata": {},
   "source": [
    "#### Dataset paths"
   ]
  },
  {
   "cell_type": "code",
   "execution_count": 41,
   "metadata": {},
   "outputs": [],
   "source": [
    "##Paths\n",
    "\n",
    "path_to_charlie_root = \"../../..\"\n",
    "    \n",
    "#OUTPUTS_DIR = os.path.join(path_to_charlie_root,\"data/YOLOready_imagery_6-7_made_6-21\")\n",
    "OUTPUTS_DIR = os.path.join(rel_path_to_charlie_root,\"data/yolov3-inputs_imagery-7-25_cropped_419\")\n",
    "WORKSPACE_DIR = OUTPUTS_DIR"
   ]
  },
  {
   "cell_type": "code",
   "execution_count": 42,
   "metadata": {},
   "outputs": [],
   "source": [
    "NOT_A_DAM_IMAGE_DIR = os.path.join(path_to_charlie_root,\"data/imagery-7-25_cropped_419/not_a_dam_images\")\n",
    "DAM_IMAGE_DIR = os.path.join(path_to_charlie_root,\"data/imagery-7-25_cropped_419/dam_images/\")\n",
    "\n",
    "TM_WORLD_BORDERS_URL = 'https://storage.googleapis.com/ecoshard-root/ipbes/TM_WORLD_BORDERS_SIMPL-0.3_md5_15057f7b17752048f9bd2e2e607fe99c.zip'\n",
    "\n",
    "if not os.path.exists(NOT_A_DAM_IMAGE_DIR):\n",
    "    raise ValueError(\"can't find %s'\" % NOT_A_DAM_IMAGE_DIR)\n",
    "if not os.path.exists(DAM_IMAGE_DIR):\n",
    "    raise ValueError(\"can't find %s'\" % DAM_IMAGE_DIR)"
   ]
  },
  {
   "cell_type": "markdown",
   "metadata": {},
   "source": [
    "Run just one of the cells below"
   ]
  },
  {
   "cell_type": "code",
   "execution_count": 4,
   "metadata": {},
   "outputs": [],
   "source": [
    "## Subsets of data inputs - for faster development purposes\n",
    "\n",
    "dam_file_list = [os.path.join(DAM_IMAGE_DIR, f)\n",
    "                 for f in os.listdir(DAM_IMAGE_DIR) if f.endswith('5140_clipped.png')]\n",
    "not_a_dam_file_list = [os.path.join(NOT_A_DAM_IMAGE_DIR, f)\n",
    "                       for f in os.listdir(NOT_A_DAM_IMAGE_DIR) if f.endswith('362_not_a_dam.png')]"
   ]
  },
  {
   "cell_type": "code",
   "execution_count": 43,
   "metadata": {},
   "outputs": [],
   "source": [
    "## Full dataset \n",
    "\n",
    "dam_file_list = [os.path.join(DAM_IMAGE_DIR, f)\n",
    "                 for f in os.listdir(DAM_IMAGE_DIR) if f.endswith('.png')]\n",
    "not_a_dam_file_list = [os.path.join(NOT_A_DAM_IMAGE_DIR, f)\n",
    "                       for f in os.listdir(NOT_A_DAM_IMAGE_DIR) if f.endswith('not_a_dam.png')]"
   ]
  },
  {
   "cell_type": "code",
   "execution_count": 44,
   "metadata": {},
   "outputs": [
    {
     "data": {
      "text/plain": [
       "42656"
      ]
     },
     "execution_count": 44,
     "metadata": {},
     "output_type": "execute_result"
    }
   ],
   "source": [
    "len(dam_file_list)"
   ]
  },
  {
   "cell_type": "code",
   "execution_count": 45,
   "metadata": {},
   "outputs": [
    {
     "data": {
      "text/plain": [
       "5899"
      ]
     },
     "execution_count": 45,
     "metadata": {},
     "output_type": "execute_result"
    }
   ],
   "source": [
    "len(not_a_dam_file_list)"
   ]
  },
  {
   "cell_type": "markdown",
   "metadata": {},
   "source": [
    "Do run this one to merge dam_list and not_a_dam_list"
   ]
  },
  {
   "cell_type": "code",
   "execution_count": 46,
   "metadata": {},
   "outputs": [
    {
     "data": {
      "text/plain": [
       "48555"
      ]
     },
     "execution_count": 46,
     "metadata": {},
     "output_type": "execute_result"
    }
   ],
   "source": [
    "all_images_file_list = dam_file_list+not_a_dam_file_list\n",
    "\n",
    "random.seed(0)\n",
    "random.shuffle(all_images_file_list)\n",
    "\n",
    "len(all_images_file_list)\n"
   ]
  },
  {
   "cell_type": "markdown",
   "metadata": {},
   "source": [
    "#### Parameters"
   ]
  },
  {
   "cell_type": "code",
   "execution_count": 47,
   "metadata": {},
   "outputs": [],
   "source": [
    "holdout_set_portion = .2\n",
    "validation_set_portion = .15\n",
    "Dams_per_round = 1000 # = max_dams_per_record "
   ]
  },
  {
   "cell_type": "markdown",
   "metadata": {},
   "source": [
    "#### Get South Africa geometry"
   ]
  },
  {
   "cell_type": "code",
   "execution_count": 48,
   "metadata": {},
   "outputs": [],
   "source": [
    "def download_url_to_file(url, target_file_path):\n",
    "    \"\"\"Use requests to download a file.\n",
    "\n",
    "    Parameters:\n",
    "        url (string): url to file.\n",
    "        target_file_path (string): local path to download the file.\n",
    "\n",
    "    Returns:\n",
    "        None.\n",
    "\n",
    "    \"\"\"\n",
    "    try:\n",
    "        response = requests.get(url, stream=True, timeout=REQUEST_TIMEOUT)\n",
    "        try:\n",
    "            os.makedirs(os.path.dirname(target_file_path))\n",
    "        except OSError:\n",
    "            pass\n",
    "        with open(target_file_path, 'wb') as target_file:\n",
    "            shutil.copyfileobj(response.raw, target_file)\n",
    "        del response\n",
    "    except:\n",
    "        LOGGER.exception('download of {url} to {target_file_path} failed')\n",
    "        # mods from LOGGER.exception(f'download of {url} to {target_file_path} failed')\n",
    "        raise\n",
    "\n",
    "        \n",
    "        \n",
    "        \n",
    "tm_world_borders_zip_path = os.path.join(\n",
    "        WORKSPACE_DIR, 'world_borders', os.path.basename(TM_WORLD_BORDERS_URL))\n",
    "if not os.path.exists(tm_world_borders_zip_path):\n",
    "    download_url_to_file(TM_WORLD_BORDERS_URL, tm_world_borders_zip_path)\n",
    "    with zipfile.ZipFile(tm_world_borders_zip_path, 'r') as zip_ref:\n",
    "        zip_ref.extractall(os.path.join(WORKSPACE_DIR,'world_borders'))\n",
    "\n",
    "tm_world_borders_vector_path = os.path.join(\n",
    "    WORKSPACE_DIR,'world_borders', 'TM_WORLD_BORDERS-0.3.shp')\n",
    "\n",
    "tm_world_borders_vector = ogr.Open(tm_world_borders_vector_path)\n",
    "tm_world_borders_layer = tm_world_borders_vector.GetLayer()\n",
    "for border_feature in tm_world_borders_layer:\n",
    "    if border_feature.GetField('NAME') == 'South Africa':\n",
    "        sa_geom = border_feature.GetGeometryRef()\n",
    "        sa_geom_prep = shapely.prepared.prep(\n",
    "            shapely.wkb.loads(sa_geom.ExportToWkb()))\n",
    "        break\n",
    "LOGGER.debug(sa_geom_prep)"
   ]
  },
  {
   "cell_type": "markdown",
   "metadata": {},
   "source": [
    "# Now Make YOLO-ready data !"
   ]
  },
  {
   "cell_type": "markdown",
   "metadata": {},
   "source": [
    "Utils: Function to make YOLO_ready data"
   ]
  },
  {
   "cell_type": "code",
   "execution_count": 49,
   "metadata": {},
   "outputs": [],
   "source": [
    "def Make_Darknet_inputs(images_file_list, iteration): \n",
    "    \n",
    "    \"\"\" \n",
    "    \n",
    "    Takes in folder of dam pngs, folder of bounding box json files\n",
    "    Normalizes json data to darknet format (center x, center y, bbox width, bbox height)\n",
    "    Creates new directories in darknet format\n",
    "    \n",
    "    \"\"\"\n",
    "    \n",
    "    print('Starting to make Darknet formated data, round %d' % iteration)\n",
    "    \n",
    "    random.seed(iteration)\n",
    "    random_numbers_list = [random.random() for x in range(0, len(images_file_list))]\n",
    "    random_number_iterator = 0\n",
    "    \n",
    "    for image_path in images_file_list:\n",
    "        \n",
    "        # read in image\n",
    "        img = mpimg.imread(image_path)\n",
    "\n",
    "        # get width and height\n",
    "        img_w = img.shape[0]\n",
    "        img_h = img.shape[1]\n",
    "\n",
    "        # get matching bounding box json file\n",
    "        json_path = image_path.replace('.png', '.json')\n",
    "        if not os.path.exists(json_path):\n",
    "            raise NameError(\"can't find bbox for %s\" % json_path)\n",
    "            \n",
    "        # read json bounding box coordinates\n",
    "        with open(json_path, 'r') as json_file: \n",
    "            image_metadata = json.load(json_file)\n",
    "        \n",
    "        # normalize to x-center, y-center, width, and height of bbox\n",
    "        coords = image_metadata['pixel_bounding_box']\n",
    "        avg_x = (coords[2] + coords[0]) / (2 * img_w)\n",
    "        avg_y = (coords[1] + coords[3]) / (2 * img_h)\n",
    "        nrm_w = (coords[2] - coords[0]) / img_w\n",
    "        nrm_h = (coords[1] - coords[3]) / img_h\n",
    "        nrm_xywh = np.array([avg_x, avg_y, nrm_w, nrm_h])\n",
    "\n",
    "        # Define new label in YOLO format\n",
    "        if 'not_a_dam' in image_path:\n",
    "            dam_type = 'not_a_dam'\n",
    "            label_str = ''\n",
    "        else:\n",
    "            dam_type = 'dam'\n",
    "            label_str = '0 ' + str('%.6f'%nrm_xywh[0]) + ' ' + str('%.6f'%nrm_xywh[1]) + ' ' + str('%.6f'%nrm_xywh[2]) + ' ' + str('%.6f'%nrm_xywh[3])\n",
    "\n",
    "            \n",
    "            \n",
    "        # - - -   - - -   - - -   \n",
    "        # Choose whether this record will go to training or validation (=dev) set \n",
    "        try:\n",
    "            centroid = image_metadata['lng_lat_centroid']\n",
    "        except NameError:\n",
    "            raise Exception(\"Missing lat/lon for in file\", json_path)\n",
    "            \n",
    "            \n",
    "        random_number = random_numbers_list[random_number_iterator]\n",
    "        random_number_iterator+=1\n",
    "        \n",
    "        if sa_geom_prep.contains(shapely.geometry.Point(centroid[0], centroid[1])): # both for dams & not_a_dams\n",
    "            writer = 'southaf_set'\n",
    "            log = southaf_log\n",
    "        elif random_number < holdout_set_portion:\n",
    "            writer = 'test_set'\n",
    "            log = test_log\n",
    "        elif random_number > (1-validation_set_portion):\n",
    "            writer = 'validation_set'\n",
    "            log = validation_log\n",
    "        else:\n",
    "            writer = 'training_set'\n",
    "            log = training_log\n",
    "            \n",
    "        # Write the file in the corresponding set\n",
    "        \n",
    "        ## Write image here:\n",
    "        filename = image_path.split(\"images/\")[1].replace('.png','')\n",
    "            \n",
    "        newimg_filepath = os.path.join(OUTPUTS_DIR,writer,'images',filename+'.png')\n",
    "        shutil.copyfile(image_path, newimg_filepath)\n",
    "        \n",
    "        \n",
    "        newtext_filepath = os.path.join(OUTPUTS_DIR,writer,'labels',filename+'.txt')\n",
    "        file = open(newtext_filepath, 'w')\n",
    "        file.write(label_str)\n",
    "        file.close()\n",
    "\n",
    "        # Add stats \n",
    "        log[dam_type] += 1\n",
    "        \n",
    "    return training_log, validation_log, test_log, southaf_log"
   ]
  },
  {
   "cell_type": "markdown",
   "metadata": {},
   "source": [
    "Full loop"
   ]
  },
  {
   "cell_type": "code",
   "execution_count": 50,
   "metadata": {},
   "outputs": [
    {
     "name": "stdout",
     "output_type": "stream",
     "text": [
      "Starting to make Darknet formated data, round 0\n",
      "training_log {'dam': 500, 'not_a_dam': 84}\n",
      "validation_log {'dam': 109, 'not_a_dam': 21}\n",
      "test_log {'dam': 163, 'not_a_dam': 20}\n",
      "southaf_log {'dam': 102, 'not_a_dam': 1}\n",
      "\n",
      "\n",
      "Starting to make Darknet formated data, round 1\n",
      "training_log {'dam': 986, 'not_a_dam': 171}\n",
      "validation_log {'dam': 236, 'not_a_dam': 40}\n",
      "test_log {'dam': 293, 'not_a_dam': 51}\n",
      "southaf_log {'dam': 217, 'not_a_dam': 6}\n",
      "\n",
      "\n",
      "Starting to make Darknet formated data, round 2\n",
      "training_log {'dam': 1489, 'not_a_dam': 244}\n",
      "validation_log {'dam': 352, 'not_a_dam': 58}\n",
      "test_log {'dam': 443, 'not_a_dam': 80}\n",
      "southaf_log {'dam': 326, 'not_a_dam': 8}\n",
      "\n",
      "\n",
      "Starting to make Darknet formated data, round 3\n",
      "training_log {'dam': 1976, 'not_a_dam': 324}\n",
      "validation_log {'dam': 466, 'not_a_dam': 78}\n",
      "test_log {'dam': 601, 'not_a_dam': 113}\n",
      "southaf_log {'dam': 431, 'not_a_dam': 11}\n",
      "\n",
      "\n",
      "Starting to make Darknet formated data, round 4\n",
      "training_log {'dam': 2453, 'not_a_dam': 384}\n",
      "validation_log {'dam': 600, 'not_a_dam': 98}\n",
      "test_log {'dam': 770, 'not_a_dam': 135}\n",
      "southaf_log {'dam': 545, 'not_a_dam': 15}\n",
      "\n",
      "\n",
      "Starting to make Darknet formated data, round 5\n",
      "training_log {'dam': 2947, 'not_a_dam': 467}\n",
      "validation_log {'dam': 708, 'not_a_dam': 119}\n",
      "test_log {'dam': 940, 'not_a_dam': 155}\n",
      "southaf_log {'dam': 648, 'not_a_dam': 16}\n",
      "\n",
      "\n",
      "Starting to make Darknet formated data, round 6\n",
      "training_log {'dam': 3414, 'not_a_dam': 536}\n",
      "validation_log {'dam': 831, 'not_a_dam': 136}\n",
      "test_log {'dam': 1102, 'not_a_dam': 182}\n",
      "southaf_log {'dam': 780, 'not_a_dam': 19}\n",
      "\n",
      "\n",
      "Starting to make Darknet formated data, round 7\n",
      "training_log {'dam': 3906, 'not_a_dam': 620}\n",
      "validation_log {'dam': 943, 'not_a_dam': 150}\n",
      "test_log {'dam': 1263, 'not_a_dam': 206}\n",
      "southaf_log {'dam': 891, 'not_a_dam': 21}\n",
      "\n",
      "\n",
      "Starting to make Darknet formated data, round 8\n",
      "training_log {'dam': 4417, 'not_a_dam': 690}\n",
      "validation_log {'dam': 1051, 'not_a_dam': 175}\n",
      "test_log {'dam': 1414, 'not_a_dam': 226}\n",
      "southaf_log {'dam': 1006, 'not_a_dam': 21}\n",
      "\n",
      "\n",
      "Starting to make Darknet formated data, round 9\n",
      "training_log {'dam': 4882, 'not_a_dam': 765}\n",
      "validation_log {'dam': 1163, 'not_a_dam': 196}\n",
      "test_log {'dam': 1592, 'not_a_dam': 261}\n",
      "southaf_log {'dam': 1116, 'not_a_dam': 25}\n",
      "\n",
      "\n",
      "Starting to make Darknet formated data, round 10\n",
      "training_log {'dam': 5387, 'not_a_dam': 846}\n",
      "validation_log {'dam': 1273, 'not_a_dam': 213}\n",
      "test_log {'dam': 1754, 'not_a_dam': 282}\n",
      "southaf_log {'dam': 1219, 'not_a_dam': 26}\n",
      "\n",
      "\n",
      "Starting to make Darknet formated data, round 11\n",
      "training_log {'dam': 5911, 'not_a_dam': 921}\n",
      "validation_log {'dam': 1389, 'not_a_dam': 229}\n",
      "test_log {'dam': 1904, 'not_a_dam': 304}\n",
      "southaf_log {'dam': 1313, 'not_a_dam': 29}\n",
      "\n",
      "\n",
      "Starting to make Darknet formated data, round 12\n",
      "training_log {'dam': 6420, 'not_a_dam': 991}\n",
      "validation_log {'dam': 1507, 'not_a_dam': 249}\n",
      "test_log {'dam': 2060, 'not_a_dam': 324}\n",
      "southaf_log {'dam': 1416, 'not_a_dam': 33}\n",
      "\n",
      "\n",
      "Starting to make Darknet formated data, round 13\n",
      "training_log {'dam': 6923, 'not_a_dam': 1071}\n",
      "validation_log {'dam': 1607, 'not_a_dam': 268}\n",
      "test_log {'dam': 2224, 'not_a_dam': 344}\n",
      "southaf_log {'dam': 1526, 'not_a_dam': 37}\n",
      "\n",
      "\n",
      "Starting to make Darknet formated data, round 14\n",
      "training_log {'dam': 7419, 'not_a_dam': 1150}\n",
      "validation_log {'dam': 1734, 'not_a_dam': 289}\n",
      "test_log {'dam': 2379, 'not_a_dam': 365}\n",
      "southaf_log {'dam': 1626, 'not_a_dam': 38}\n",
      "\n",
      "\n",
      "Starting to make Darknet formated data, round 15\n",
      "training_log {'dam': 7924, 'not_a_dam': 1231}\n",
      "validation_log {'dam': 1865, 'not_a_dam': 313}\n",
      "test_log {'dam': 2516, 'not_a_dam': 398}\n",
      "southaf_log {'dam': 1712, 'not_a_dam': 41}\n",
      "\n",
      "\n",
      "Starting to make Darknet formated data, round 16\n",
      "training_log {'dam': 8426, 'not_a_dam': 1301}\n",
      "validation_log {'dam': 1983, 'not_a_dam': 324}\n",
      "test_log {'dam': 2679, 'not_a_dam': 417}\n",
      "southaf_log {'dam': 1825, 'not_a_dam': 45}\n",
      "\n",
      "\n",
      "Starting to make Darknet formated data, round 17\n",
      "training_log {'dam': 8945, 'not_a_dam': 1385}\n",
      "validation_log {'dam': 2098, 'not_a_dam': 344}\n",
      "test_log {'dam': 2821, 'not_a_dam': 436}\n",
      "southaf_log {'dam': 1924, 'not_a_dam': 47}\n",
      "\n",
      "\n",
      "Starting to make Darknet formated data, round 18\n",
      "training_log {'dam': 9461, 'not_a_dam': 1473}\n",
      "validation_log {'dam': 2215, 'not_a_dam': 364}\n",
      "test_log {'dam': 2973, 'not_a_dam': 456}\n",
      "southaf_log {'dam': 2010, 'not_a_dam': 48}\n",
      "\n",
      "\n",
      "Starting to make Darknet formated data, round 19\n",
      "training_log {'dam': 9977, 'not_a_dam': 1544}\n",
      "validation_log {'dam': 2323, 'not_a_dam': 377}\n",
      "test_log {'dam': 3133, 'not_a_dam': 474}\n",
      "southaf_log {'dam': 2121, 'not_a_dam': 51}\n",
      "\n",
      "\n",
      "Starting to make Darknet formated data, round 20\n",
      "training_log {'dam': 10448, 'not_a_dam': 1615}\n",
      "validation_log {'dam': 2442, 'not_a_dam': 393}\n",
      "test_log {'dam': 3316, 'not_a_dam': 495}\n",
      "southaf_log {'dam': 2238, 'not_a_dam': 53}\n",
      "\n",
      "\n",
      "Starting to make Darknet formated data, round 21\n",
      "training_log {'dam': 10983, 'not_a_dam': 1683}\n",
      "validation_log {'dam': 2539, 'not_a_dam': 408}\n",
      "test_log {'dam': 3456, 'not_a_dam': 519}\n",
      "southaf_log {'dam': 2356, 'not_a_dam': 56}\n",
      "\n",
      "\n",
      "Starting to make Darknet formated data, round 22\n",
      "training_log {'dam': 11494, 'not_a_dam': 1771}\n",
      "validation_log {'dam': 2633, 'not_a_dam': 435}\n",
      "test_log {'dam': 3610, 'not_a_dam': 543}\n",
      "southaf_log {'dam': 2458, 'not_a_dam': 56}\n",
      "\n",
      "\n",
      "Starting to make Darknet formated data, round 23\n",
      "training_log {'dam': 12012, 'not_a_dam': 1826}\n",
      "validation_log {'dam': 2745, 'not_a_dam': 450}\n",
      "test_log {'dam': 3767, 'not_a_dam': 571}\n",
      "southaf_log {'dam': 2571, 'not_a_dam': 58}\n",
      "\n",
      "\n",
      "Starting to make Darknet formated data, round 24\n",
      "training_log {'dam': 12501, 'not_a_dam': 1898}\n",
      "validation_log {'dam': 2875, 'not_a_dam': 471}\n",
      "test_log {'dam': 3926, 'not_a_dam': 591}\n",
      "southaf_log {'dam': 2678, 'not_a_dam': 60}\n",
      "\n",
      "\n",
      "Starting to make Darknet formated data, round 25\n",
      "training_log {'dam': 12988, 'not_a_dam': 1969}\n",
      "validation_log {'dam': 3006, 'not_a_dam': 487}\n",
      "test_log {'dam': 4097, 'not_a_dam': 616}\n",
      "southaf_log {'dam': 2774, 'not_a_dam': 63}\n",
      "\n",
      "\n",
      "Starting to make Darknet formated data, round 26\n",
      "training_log {'dam': 13475, 'not_a_dam': 2053}\n",
      "validation_log {'dam': 3109, 'not_a_dam': 519}\n",
      "test_log {'dam': 4262, 'not_a_dam': 641}\n",
      "southaf_log {'dam': 2877, 'not_a_dam': 64}\n",
      "\n",
      "\n",
      "Starting to make Darknet formated data, round 27\n",
      "training_log {'dam': 13965, 'not_a_dam': 2142}\n",
      "validation_log {'dam': 3241, 'not_a_dam': 537}\n",
      "test_log {'dam': 4410, 'not_a_dam': 668}\n",
      "southaf_log {'dam': 2973, 'not_a_dam': 64}\n",
      "\n",
      "\n",
      "Starting to make Darknet formated data, round 28\n",
      "training_log {'dam': 14464, 'not_a_dam': 2215}\n",
      "validation_log {'dam': 3360, 'not_a_dam': 554}\n",
      "test_log {'dam': 4571, 'not_a_dam': 695}\n",
      "southaf_log {'dam': 3074, 'not_a_dam': 67}\n",
      "\n",
      "\n",
      "Starting to make Darknet formated data, round 29\n",
      "training_log {'dam': 14960, 'not_a_dam': 2297}\n",
      "validation_log {'dam': 3469, 'not_a_dam': 569}\n",
      "test_log {'dam': 4724, 'not_a_dam': 719}\n",
      "southaf_log {'dam': 3191, 'not_a_dam': 71}\n",
      "\n",
      "\n",
      "Starting to make Darknet formated data, round 30\n",
      "training_log {'dam': 15455, 'not_a_dam': 2373}\n",
      "validation_log {'dam': 3573, 'not_a_dam': 581}\n",
      "test_log {'dam': 4899, 'not_a_dam': 745}\n",
      "southaf_log {'dam': 3301, 'not_a_dam': 73}\n",
      "\n",
      "\n",
      "Starting to make Darknet formated data, round 31\n",
      "training_log {'dam': 15941, 'not_a_dam': 2451}\n",
      "validation_log {'dam': 3699, 'not_a_dam': 603}\n",
      "test_log {'dam': 5062, 'not_a_dam': 769}\n",
      "southaf_log {'dam': 3398, 'not_a_dam': 77}\n",
      "\n",
      "\n",
      "Starting to make Darknet formated data, round 32\n",
      "training_log {'dam': 16416, 'not_a_dam': 2543}\n",
      "validation_log {'dam': 3813, 'not_a_dam': 617}\n",
      "test_log {'dam': 5231, 'not_a_dam': 793}\n",
      "southaf_log {'dam': 3508, 'not_a_dam': 79}\n",
      "\n",
      "\n",
      "Starting to make Darknet formated data, round 33\n",
      "training_log {'dam': 16919, 'not_a_dam': 2602}\n",
      "validation_log {'dam': 3930, 'not_a_dam': 644}\n",
      "test_log {'dam': 5388, 'not_a_dam': 814}\n",
      "southaf_log {'dam': 3622, 'not_a_dam': 81}\n",
      "\n",
      "\n",
      "Starting to make Darknet formated data, round 34\n",
      "training_log {'dam': 17440, 'not_a_dam': 2695}\n",
      "validation_log {'dam': 4063, 'not_a_dam': 662}\n",
      "test_log {'dam': 5512, 'not_a_dam': 836}\n",
      "southaf_log {'dam': 3711, 'not_a_dam': 81}\n",
      "\n",
      "\n",
      "Starting to make Darknet formated data, round 35\n",
      "training_log {'dam': 17917, 'not_a_dam': 2772}\n",
      "validation_log {'dam': 4172, 'not_a_dam': 678}\n",
      "test_log {'dam': 5684, 'not_a_dam': 861}\n",
      "southaf_log {'dam': 3833, 'not_a_dam': 83}\n",
      "\n",
      "\n",
      "Starting to make Darknet formated data, round 36\n"
     ]
    },
    {
     "name": "stdout",
     "output_type": "stream",
     "text": [
      "training_log {'dam': 18397, 'not_a_dam': 2853}\n",
      "validation_log {'dam': 4309, 'not_a_dam': 691}\n",
      "test_log {'dam': 5843, 'not_a_dam': 880}\n",
      "southaf_log {'dam': 3942, 'not_a_dam': 85}\n",
      "\n",
      "\n",
      "Starting to make Darknet formated data, round 37\n",
      "training_log {'dam': 18910, 'not_a_dam': 2931}\n",
      "validation_log {'dam': 4430, 'not_a_dam': 707}\n",
      "test_log {'dam': 5988, 'not_a_dam': 909}\n",
      "southaf_log {'dam': 4039, 'not_a_dam': 86}\n",
      "\n",
      "\n",
      "Starting to make Darknet formated data, round 38\n",
      "training_log {'dam': 19397, 'not_a_dam': 3009}\n",
      "validation_log {'dam': 4553, 'not_a_dam': 726}\n",
      "test_log {'dam': 6147, 'not_a_dam': 929}\n",
      "southaf_log {'dam': 4151, 'not_a_dam': 88}\n",
      "\n",
      "\n",
      "Starting to make Darknet formated data, round 39\n",
      "training_log {'dam': 19885, 'not_a_dam': 3096}\n",
      "validation_log {'dam': 4665, 'not_a_dam': 741}\n",
      "test_log {'dam': 6308, 'not_a_dam': 965}\n",
      "southaf_log {'dam': 4249, 'not_a_dam': 91}\n",
      "\n",
      "\n",
      "Starting to make Darknet formated data, round 40\n",
      "training_log {'dam': 20402, 'not_a_dam': 3159}\n",
      "validation_log {'dam': 4757, 'not_a_dam': 759}\n",
      "test_log {'dam': 6484, 'not_a_dam': 988}\n",
      "southaf_log {'dam': 4356, 'not_a_dam': 95}\n",
      "\n",
      "\n",
      "Starting to make Darknet formated data, round 41\n",
      "training_log {'dam': 20919, 'not_a_dam': 3227}\n",
      "validation_log {'dam': 4884, 'not_a_dam': 773}\n",
      "test_log {'dam': 6615, 'not_a_dam': 1017}\n",
      "southaf_log {'dam': 4466, 'not_a_dam': 99}\n",
      "\n",
      "\n",
      "Starting to make Darknet formated data, round 42\n",
      "training_log {'dam': 21424, 'not_a_dam': 3314}\n",
      "validation_log {'dam': 5018, 'not_a_dam': 787}\n",
      "test_log {'dam': 6751, 'not_a_dam': 1043}\n",
      "southaf_log {'dam': 4563, 'not_a_dam': 100}\n",
      "\n",
      "\n",
      "Starting to make Darknet formated data, round 43\n",
      "training_log {'dam': 21967, 'not_a_dam': 3387}\n",
      "validation_log {'dam': 5114, 'not_a_dam': 804}\n",
      "test_log {'dam': 6897, 'not_a_dam': 1067}\n",
      "southaf_log {'dam': 4661, 'not_a_dam': 103}\n",
      "\n",
      "\n",
      "Starting to make Darknet formated data, round 44\n",
      "training_log {'dam': 22452, 'not_a_dam': 3453}\n",
      "validation_log {'dam': 5227, 'not_a_dam': 821}\n",
      "test_log {'dam': 7068, 'not_a_dam': 1094}\n",
      "southaf_log {'dam': 4780, 'not_a_dam': 105}\n",
      "\n",
      "\n",
      "Starting to make Darknet formated data, round 45\n",
      "training_log {'dam': 22948, 'not_a_dam': 3527}\n",
      "validation_log {'dam': 5352, 'not_a_dam': 843}\n",
      "test_log {'dam': 7215, 'not_a_dam': 1123}\n",
      "southaf_log {'dam': 4886, 'not_a_dam': 106}\n",
      "\n",
      "\n",
      "Starting to make Darknet formated data, round 46\n",
      "training_log {'dam': 23457, 'not_a_dam': 3594}\n",
      "validation_log {'dam': 5477, 'not_a_dam': 861}\n",
      "test_log {'dam': 7379, 'not_a_dam': 1147}\n",
      "southaf_log {'dam': 4977, 'not_a_dam': 108}\n",
      "\n",
      "\n",
      "Starting to make Darknet formated data, round 47\n",
      "training_log {'dam': 23967, 'not_a_dam': 3664}\n",
      "validation_log {'dam': 5597, 'not_a_dam': 884}\n",
      "test_log {'dam': 7526, 'not_a_dam': 1167}\n",
      "southaf_log {'dam': 5085, 'not_a_dam': 110}\n",
      "\n",
      "\n",
      "Starting to make Darknet formated data, round 48\n",
      "training_log {'dam': 24224, 'not_a_dam': 3712}\n",
      "validation_log {'dam': 5672, 'not_a_dam': 893}\n",
      "test_log {'dam': 7605, 'not_a_dam': 1180}\n",
      "southaf_log {'dam': 5155, 'not_a_dam': 114}\n",
      "\n",
      "\n"
     ]
    }
   ],
   "source": [
    "# Make workspace outputs directories doesn't exist\n",
    "directories_to_make = [WORKSPACE_DIR,\n",
    "                       os.path.join(WORKSPACE_DIR,'training_set'),\n",
    "                       os.path.join(WORKSPACE_DIR,'training_set','labels'),\n",
    "                       os.path.join(WORKSPACE_DIR,'training_set','images'),\n",
    "                       os.path.join(WORKSPACE_DIR,'validation_set'),\n",
    "                       os.path.join(WORKSPACE_DIR,'validation_set','labels'),\n",
    "                       os.path.join(WORKSPACE_DIR,'validation_set','images'),\n",
    "                       os.path.join(WORKSPACE_DIR,'test_set'),\n",
    "                       os.path.join(WORKSPACE_DIR,'test_set','labels'),\n",
    "                       os.path.join(WORKSPACE_DIR,'test_set','images'),\n",
    "                       os.path.join(WORKSPACE_DIR,'southaf_set'),\n",
    "                      os.path.join(WORKSPACE_DIR,'southaf_set','labels'),\n",
    "                      os.path.join(WORKSPACE_DIR,'southaf_set','images')]\n",
    "for directory in directories_to_make:\n",
    "    try:\n",
    "        os.mkdir(directory)\n",
    "        \n",
    "    except OSError:\n",
    "        pass\n",
    "\n",
    "    \n",
    "    \n",
    "# Do the thing    \n",
    "training_log = {'dam': 0, 'not_a_dam': 0}\n",
    "validation_log = {'dam': 0, 'not_a_dam': 0}\n",
    "test_log = {'dam': 0, 'not_a_dam': 0}\n",
    "southaf_log = {'dam': 0, 'not_a_dam': 0}\n",
    "\n",
    "#last_time = time.time()\n",
    "\n",
    "iteration = 0\n",
    "max_iteration = int(len(all_images_file_list)/Dams_per_round)\n",
    "\n",
    "while iteration <= max_iteration:\n",
    "    \n",
    "    LOGGER.info('iteration %d' % iteration)\n",
    "\n",
    "    # Get a slice of the dataset\n",
    "    slice_dam_images_list = all_images_file_list[iteration*Dams_per_round:min((iteration+1)*Dams_per_round,len(all_images_file_list))]\n",
    "\n",
    "    #This is where I make Darknet_ready_inputs!\n",
    "    training_log, validation_log, test_log, southaf_log = Make_Darknet_inputs(slice_dam_images_list, iteration)\n",
    "\n",
    "    # Advance loop\n",
    "    iteration += 1\n",
    "\n",
    "    print('training_log',training_log)\n",
    "    print('validation_log',validation_log)\n",
    "    print('test_log',test_log)\n",
    "    print('southaf_log',southaf_log)\n",
    "    print('\\n')\n"
   ]
  },
  {
   "cell_type": "code",
   "execution_count": 2,
   "metadata": {},
   "outputs": [
    {
     "name": "stdout",
     "output_type": "stream",
     "text": [
      "kernel listo\n"
     ]
    }
   ],
   "source": [
    "print('kernel listo')"
   ]
  },
  {
   "cell_type": "markdown",
   "metadata": {},
   "source": [
    "### Additional files"
   ]
  },
  {
   "cell_type": "markdown",
   "metadata": {},
   "source": [
    "#### Create `dams.names`"
   ]
  },
  {
   "cell_type": "code",
   "execution_count": 16,
   "metadata": {},
   "outputs": [
    {
     "name": "stdout",
     "output_type": "stream",
     "text": [
      "Wrote dams.names file\n"
     ]
    }
   ],
   "source": [
    "# create supporting files\n",
    "names = open(os.path.join(WORKSPACE_DIR,'dams.names'), 'w')\n",
    "names.write('dam')\n",
    "names.close()\n",
    "print('Wrote dams.names file')"
   ]
  },
  {
   "cell_type": "markdown",
   "metadata": {},
   "source": [
    "#### Create `dams.data`"
   ]
  },
  {
   "cell_type": "code",
   "execution_count": 51,
   "metadata": {},
   "outputs": [
    {
     "name": "stdout",
     "output_type": "stream",
     "text": [
      "Wrote 07-29.data file\n"
     ]
    }
   ],
   "source": [
    "## Writing .data file in inputs dir (WORKSPACE DIR)\n",
    "num_classes = 1\n",
    "filename = '07-29.data'\n",
    "\n",
    "data = open(os.path.join('cfg',filename), 'w')\n",
    "data.write('classes = '+ str(num_classes)\n",
    "           +' \\n train = ' + os.path.join(WORKSPACE_DIR,'training_set','training_image_filepaths.txt')\n",
    "           + '\\n valid = ' + os.path.join(WORKSPACE_DIR,'validation_set','validation_image_filepaths.txt')\n",
    "           +'\\n names =  ' + os.path.join(WORKSPACE_DIR,'dams.names')\n",
    "           +'\\n backup = ' + '../../../outputs/yolov3-outputs_7-29_cropped_419/')\n",
    "data.close()\n",
    "\n",
    "print('Wrote '+filename+' file')\n"
   ]
  },
  {
   "cell_type": "code",
   "execution_count": 15,
   "metadata": {},
   "outputs": [
    {
     "name": "stdout",
     "output_type": "stream",
     "text": [
      "Wrote dams.data file\n"
     ]
    }
   ],
   "source": [
    "## Writing .data file in cfg dir (WORKSPACE DIR)\n",
    "\n",
    "num_classes = 1\n",
    "\n",
    "data = open(os.path.join(WORKSPACE_DIR,'dams.data'), 'w')\n",
    "data.write('classes = '+ str(num_classes)\n",
    "           +' \\n train = ' + os.path.join(WORKSPACE_DIR,'training_set','training_image_filepaths.txt')\n",
    "           + '\\n valid = ' + os.path.join(WORKSPACE_DIR,'validation_set','validation_image_filepaths.txt')\n",
    "           +'\\n names =  ' + os.path.join(WORKSPACE_DIR,'dams.names')\n",
    "           +'\\n backup = backup/')\n",
    "data.close()\n",
    "\n",
    "print('Wrote dams.data file')"
   ]
  },
  {
   "cell_type": "markdown",
   "metadata": {},
   "source": [
    "#### Create `[training, validation, test, southaf]_images_filepaths.txt`"
   ]
  },
  {
   "cell_type": "code",
   "execution_count": 52,
   "metadata": {},
   "outputs": [
    {
     "name": "stdout",
     "output_type": "stream",
     "text": [
      "Wrote validation_image_filepaths.txt\n",
      "Wrote test_image_filepaths.txt\n",
      "Wrote southaf_image_filepaths.txt\n",
      "Wrote training_image_filepaths.txt\n"
     ]
    }
   ],
   "source": [
    "for split in ['validation','test', 'southaf','training']:\n",
    "    split_set = split+'_set'\n",
    "\n",
    "    file_to_write = open(os.path.join(WORKSPACE_DIR,split_set,split+'_image_filepaths.txt'), 'w')\n",
    "\n",
    "    for image_name in os.listdir(os.path.join(WORKSPACE_DIR,split_set,'images')):\n",
    "        file_to_write.write(os.path.join(WORKSPACE_DIR,split_set,'images',image_name) + '\\n')\n",
    "    file_to_write.close()\n",
    "    \n",
    "    print('Wrote '+split+'_image_filepaths.txt')"
   ]
  },
  {
   "cell_type": "code",
   "execution_count": 8,
   "metadata": {},
   "outputs": [
    {
     "name": "stdout",
     "output_type": "stream",
     "text": [
      "Wrote validation_image_filepaths_rel.txt\n",
      "Wrote test_image_filepaths_rel.txt\n",
      "Wrote southaf_image_filepaths_rel.txt\n",
      "Wrote training_image_filepaths_rel.txt\n"
     ]
    }
   ],
   "source": [
    "# Relative paths don't work\n",
    "\n",
    "for split in ['validation','test', 'southaf','training']:\n",
    "    split_set = split+'_set'\n",
    "\n",
    "    file_to_write = open(os.path.join(WORKSPACE_DIR,split_set,split+'_image_filepaths_rel.txt'), 'w')\n",
    "\n",
    "    for image_name in os.listdir(os.path.join(WORKSPACE_DIR,split_set,'images')):\n",
    "        file_to_write.write(os.path.join('images',image_name) + '\\n')\n",
    "    file_to_write.close()\n",
    "    \n",
    "    print('Wrote '+split+'_image_filepaths_rel.txt')"
   ]
  },
  {
   "cell_type": "code",
   "execution_count": 53,
   "metadata": {},
   "outputs": [
    {
     "ename": "FileNotFoundError",
     "evalue": "[Errno 2] No such file or directory: '/home/adminatcap/charlie/data/Darknet-inputs_imagery_6-7_made_6-21/validation_set/validation_image_filepaths_abs.txt'",
     "output_type": "error",
     "traceback": [
      "\u001b[0;31m---------------------------------------------------------------------------\u001b[0m",
      "\u001b[0;31mFileNotFoundError\u001b[0m                         Traceback (most recent call last)",
      "\u001b[0;32m<ipython-input-53-dd377f353c2c>\u001b[0m in \u001b[0;36m<module>\u001b[0;34m()\u001b[0m\n\u001b[1;32m      5\u001b[0m     \u001b[0msplit_set\u001b[0m \u001b[0;34m=\u001b[0m \u001b[0msplit\u001b[0m\u001b[0;34m+\u001b[0m\u001b[0;34m'_set'\u001b[0m\u001b[0;34m\u001b[0m\u001b[0m\n\u001b[1;32m      6\u001b[0m \u001b[0;34m\u001b[0m\u001b[0m\n\u001b[0;32m----> 7\u001b[0;31m     \u001b[0mfile_to_write\u001b[0m \u001b[0;34m=\u001b[0m \u001b[0mopen\u001b[0m\u001b[0;34m(\u001b[0m\u001b[0mos\u001b[0m\u001b[0;34m.\u001b[0m\u001b[0mpath\u001b[0m\u001b[0;34m.\u001b[0m\u001b[0mjoin\u001b[0m\u001b[0;34m(\u001b[0m\u001b[0mabsolute_path_to_data\u001b[0m\u001b[0;34m,\u001b[0m\u001b[0msplit_set\u001b[0m\u001b[0;34m,\u001b[0m\u001b[0msplit\u001b[0m\u001b[0;34m+\u001b[0m\u001b[0;34m'_image_filepaths_abs.txt'\u001b[0m\u001b[0;34m)\u001b[0m\u001b[0;34m,\u001b[0m \u001b[0;34m'w'\u001b[0m\u001b[0;34m)\u001b[0m\u001b[0;34m\u001b[0m\u001b[0m\n\u001b[0m\u001b[1;32m      8\u001b[0m \u001b[0;34m\u001b[0m\u001b[0m\n\u001b[1;32m      9\u001b[0m     \u001b[0;32mfor\u001b[0m \u001b[0mimage_name\u001b[0m \u001b[0;32min\u001b[0m \u001b[0mos\u001b[0m\u001b[0;34m.\u001b[0m\u001b[0mlistdir\u001b[0m\u001b[0;34m(\u001b[0m\u001b[0mos\u001b[0m\u001b[0;34m.\u001b[0m\u001b[0mpath\u001b[0m\u001b[0;34m.\u001b[0m\u001b[0mjoin\u001b[0m\u001b[0;34m(\u001b[0m\u001b[0mabsolute_path_to_data\u001b[0m\u001b[0;34m,\u001b[0m\u001b[0msplit_set\u001b[0m\u001b[0;34m,\u001b[0m\u001b[0;34m'images'\u001b[0m\u001b[0;34m)\u001b[0m\u001b[0;34m)\u001b[0m\u001b[0;34m:\u001b[0m\u001b[0;34m\u001b[0m\u001b[0m\n",
      "\u001b[0;31mFileNotFoundError\u001b[0m: [Errno 2] No such file or directory: '/home/adminatcap/charlie/data/Darknet-inputs_imagery_6-7_made_6-21/validation_set/validation_image_filepaths_abs.txt'"
     ]
    }
   ],
   "source": [
    "# Absolute paths\n",
    "absolute_path_to_data = '/home/adminatcap/charlie/data/Darknet-inputs_imagery_6-7_made_6-21/' \n",
    "\n",
    "for split in ['validation','test', 'southaf','training']:\n",
    "    split_set = split+'_set'\n",
    "\n",
    "    file_to_write = open(os.path.join(absolute_path_to_data,split_set,split+'_image_filepaths_abs.txt'), 'w')\n",
    "\n",
    "    for image_name in os.listdir(os.path.join(absolute_path_to_data,split_set,'images')):\n",
    "        file_to_write.write(os.path.join(absolute_path_to_data,split_set,'images',image_name) + '\\n')\n",
    "    file_to_write.close()\n",
    "    \n",
    "    print('Wrote '+split+'_image_filepaths_abs.txt')"
   ]
  },
  {
   "cell_type": "code",
   "execution_count": null,
   "metadata": {},
   "outputs": [],
   "source": []
  }
 ],
 "metadata": {
  "kernelspec": {
   "display_name": "Python [default]",
   "language": "python",
   "name": "python3"
  },
  "language_info": {
   "codemirror_mode": {
    "name": "ipython",
    "version": 3
   },
   "file_extension": ".py",
   "mimetype": "text/x-python",
   "name": "python",
   "nbconvert_exporter": "python",
   "pygments_lexer": "ipython3",
   "version": "3.5.5"
  }
 },
 "nbformat": 4,
 "nbformat_minor": 2
}
