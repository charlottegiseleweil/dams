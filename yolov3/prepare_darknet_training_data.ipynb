{
 "cells": [
  {
   "cell_type": "markdown",
   "metadata": {},
   "source": [
    "Preparing dam data for darknet format:\n",
    "\n",
    "This script has two inputs:\n",
    "    - not_a_dam_images.zip\n",
    "    - dam_images.zip\n",
    "and two outputs (directories)\n",
    "    - images\n",
    "    - labels\n",
    "\n",
    "The input zip files should be in the same directory\n",
    "\n",
    "Each output image file will correspond to a label file, which is in darknet format (class, center x, center y, width, height)\n",
    "\n",
    "x y w h are all normalized (between 0 and 1) relative to image dimensions"
   ]
  },
  {
   "cell_type": "code",
   "execution_count": 1,
   "metadata": {},
   "outputs": [],
   "source": [
    "# import required libraries\n",
    "\n",
    "import os\n",
    "import shutil\n",
    "import zipfile as zf\n",
    "import json\n",
    "import numpy as np\n",
    "from matplotlib import image as mpimg"
   ]
  },
  {
   "cell_type": "code",
   "execution_count": 4,
   "metadata": {},
   "outputs": [],
   "source": [
    "# unzip files\n",
    "\n",
    "not_dams = zf.ZipFile('not_a_dam_images.zip', 'r')\n",
    "not_dams.extractall()\n",
    "not_dams.close()\n",
    "\n",
    "dams = zf.ZipFile('dam_images.zip', 'r')\n",
    "dams.extractall()\n",
    "dams.close()"
   ]
  },
  {
   "cell_type": "code",
   "execution_count": 5,
   "metadata": {},
   "outputs": [],
   "source": [
    "# function to move files of certain type to other folders\n",
    "\n",
    "def create_new_folder (src, dst, filetype):\n",
    "    \n",
    "    # create destination folder\n",
    "    os.mkdir(dst)\n",
    "    \n",
    "    # move files of specified format to destination folder\n",
    "    for filename in os.listdir(src):\n",
    "        if filename.endswith(filetype):\n",
    "            os.rename(src + '/' + filename, dst + '/' + filename)"
   ]
  },
  {
   "cell_type": "code",
   "execution_count": 6,
   "metadata": {},
   "outputs": [],
   "source": [
    "# there are four types of files in these folders: xml, png, png w/ bboxes, and json\n",
    "# darknet needs only the images (png) and the bbox labels (json)\n",
    "\n",
    "# move png files (not _bb.png files) to new folder\n",
    "create_new_folder ('dam_images', 'dam_png', '.png') \n",
    "create_new_folder ('dam_png', 'dam_bb_images', '_bb.png')\n",
    "create_new_folder ('not_a_dam_images', 'not_a_dam_png', '.png') \n",
    "create_new_folder ('not_a_dam_png', 'not_a_dam_bb_images', '_bb.png') \n",
    "\n",
    "# move json files to new folder\n",
    "create_new_folder ('dam_images', 'dam_bboxes', '.json')\n",
    "create_new_folder ('not_a_dam_images', 'not_a_dam_bboxes', '.json')\n",
    "\n",
    "# create new folder for images and labels\n",
    "os.mkdir('images')\n",
    "os.mkdir('labels')"
   ]
  },
  {
   "cell_type": "code",
   "execution_count": 7,
   "metadata": {},
   "outputs": [],
   "source": [
    "def create_images_labels (png_folder, bbox_folder, classtype): \n",
    "    \n",
    "    \"\"\" \n",
    "    Takes in folder of dam pngs, folder of bounding box json files, and class type (dam or not_dam)\n",
    "    Normalizes json data to darknet format (center x, center y, bbox width, bbox height)\n",
    "    Creates new directories in darknet format\n",
    "    \"\"\"\n",
    "    \n",
    "    for png in os.listdir(png_folder):\n",
    "       \n",
    "        # read in image\n",
    "        img = mpimg.imread(png_folder + '/' + png)\n",
    "\n",
    "        # find width and height\n",
    "        img_w = img.shape[0]\n",
    "        img_h = img.shape[1]\n",
    "        \n",
    "        # find matching bounding box json file\n",
    "        for item in os.listdir(bbox_folder):\n",
    "            if item[:10] == png[:10]:\n",
    "                bbox = item\n",
    "\n",
    "        # read json bounding box coordinates\n",
    "        with open(bbox_folder + '/' + bbox) as json_file:\n",
    "            data = json.load(json_file)\n",
    "            coords = data['pixel_bounding_box']\n",
    "\n",
    "        # normalize to x-center, y-center, width, and height of bbox\n",
    "        avg_x = (coords[2] + coords[0]) / (2 * img_w)\n",
    "        avg_y = (coords[1] + coords[3]) / (2 * img_h)\n",
    "        nrm_w = (coords[2] - coords[0]) / img_w\n",
    "        nrm_h = (coords[1] - coords[3]) / img_h\n",
    "        nrm_xywh = np.array([avg_x, avg_y, nrm_w, nrm_h])\n",
    "\n",
    "        # create new folder for labels\n",
    "        shutil.copyfile(bbox_folder + '/' + bbox, 'labels/' + bbox[:-5] + '.txt')    \n",
    "\n",
    "        # write new label file and move to new folder\n",
    "        if classtype == 'dam':\n",
    "            label_str = '0 ' + str('%.6f'%nrm_xywh[0]) + ' ' + str('%.6f'%nrm_xywh[1]) + ' ' + str('%.6f'%nrm_xywh[2]) + ' ' + str('%.6f'%nrm_xywh[3])\n",
    "        else:\n",
    "            label_str = ''\n",
    "        shutil.copyfile(bbox_folder + '/' + bbox, 'labels/' + bbox[:-5] + '.txt')   \n",
    "        file = open('labels' + '/' + bbox[:-5] + '.txt', 'w')\n",
    "        file.write(label_str)\n",
    "        file.close()\n",
    "\n",
    "        # move images to new folder\n",
    "        shutil.copyfile(png_folder + '/' + png, 'images/' + png)"
   ]
  },
  {
   "cell_type": "code",
   "execution_count": 8,
   "metadata": {},
   "outputs": [],
   "source": [
    "# create the image and label files\n",
    "create_images_labels('dam_png', 'dam_bboxes', 'dam')\n",
    "create_images_labels('not_a_dam_png', 'not_a_dam_bboxes', 'not_dam')"
   ]
  },
  {
   "cell_type": "code",
   "execution_count": 7,
   "metadata": {},
   "outputs": [],
   "source": [
    "# TODOS\n",
    "# X delete unwanted directories\n",
    "# - create test and train folders\n",
    "# - split test and train data into two folders\n",
    "# X create .txt files for test and train data file paths\n",
    "# X~ create .names file\n",
    "# X~ create .data file\n",
    "# X~ download cfg file\n",
    "# X download pre-trained weights"
   ]
  },
  {
   "cell_type": "code",
   "execution_count": 25,
   "metadata": {},
   "outputs": [
    {
     "ename": "AttributeError",
     "evalue": "module 'shutil' has no attribute 'remove'",
     "output_type": "error",
     "traceback": [
      "\u001b[0;31m---------------------------------------------------------------------------\u001b[0m",
      "\u001b[0;31mAttributeError\u001b[0m                            Traceback (most recent call last)",
      "\u001b[0;32m<ipython-input-25-94f619fae671>\u001b[0m in \u001b[0;36m<module>\u001b[0;34m()\u001b[0m\n\u001b[1;32m      3\u001b[0m                  'not_a_dam_images', 'not_a_dam_png']\n\u001b[1;32m      4\u001b[0m \u001b[0;32mfor\u001b[0m \u001b[0mfolder\u001b[0m \u001b[0;32min\u001b[0m \u001b[0mdelete_folders\u001b[0m\u001b[0;34m:\u001b[0m\u001b[0;34m\u001b[0m\u001b[0m\n\u001b[0;32m----> 5\u001b[0;31m     \u001b[0mshutil\u001b[0m\u001b[0;34m.\u001b[0m\u001b[0mremove\u001b[0m\u001b[0;34m(\u001b[0m\u001b[0mfolder\u001b[0m\u001b[0;34m)\u001b[0m\u001b[0;34m\u001b[0m\u001b[0m\n\u001b[0m",
      "\u001b[0;31mAttributeError\u001b[0m: module 'shutil' has no attribute 'remove'"
     ]
    }
   ],
   "source": [
    "# delete unwanted directories\n",
    "delete_folders = ['dam_bb_images', 'dam_bboxes', 'dam_images', 'dam_png', 'not_a_dam_bb_images', 'not_a_dam_bboxes',\n",
    "                 'not_a_dam_images', 'not_a_dam_png']\n",
    "for folder in delete_folders:\n",
    "    shutil.rmtree(folder)"
   ]
  },
  {
   "cell_type": "code",
   "execution_count": 23,
   "metadata": {},
   "outputs": [],
   "source": [
    "# create .txt files for test adn train data file paths\n",
    "\n",
    "def create_txt_file (split):\n",
    "    files = os.listdir('images/' + split)\n",
    "    cwd = os.getcwd()\n",
    "    txt = open(cwd + '/' + split + '_images.txt', 'w')\n",
    "    for file in files:\n",
    "        if file != '.ipynb_checkpoints':\n",
    "            txt.write(cwd + '/images/' + split + '/' + file + '\\n')\n",
    "    txt.close()"
   ]
  },
  {
   "cell_type": "code",
   "execution_count": 24,
   "metadata": {},
   "outputs": [],
   "source": [
    "create_txt_file('test')\n",
    "create_txt_file('train')"
   ]
  },
  {
   "cell_type": "code",
   "execution_count": null,
   "metadata": {},
   "outputs": [],
   "source": []
  }
 ],
 "metadata": {
  "kernelspec": {
   "display_name": "Python 3",
   "language": "python",
   "name": "python3"
  },
  "language_info": {
   "codemirror_mode": {
    "name": "ipython",
    "version": 3
   },
   "file_extension": ".py",
   "mimetype": "text/x-python",
   "name": "python",
   "nbconvert_exporter": "python",
   "pygments_lexer": "ipython3",
   "version": "3.6.3"
  }
 },
 "nbformat": 4,
 "nbformat_minor": 2
}
